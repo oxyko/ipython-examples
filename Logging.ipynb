{
 "cells": [
  {
   "cell_type": "markdown",
   "metadata": {},
   "source": [
    "# Logging cheatsheet\n",
    "\n",
    "One thing to note about logging - it is set up once per session and can not be re-setup. Therefore the examples that you see below only work for the first set up. I.e., if you want run the setup for file logging, then don't execute the first part of regular logging and execute from the __Logging to a file__ section\n",
    "\n",
    "Also note, that a new interpreter has to be started for a new logging configuration. Therefore, you'd need to restart the kernel or stop and start jupyter notebook to run the logging setup again.\n",
    "\n",
    "### dictConfig\n",
    "Logging can also be done with yaml and calling dictConfig. See my other code for examples."
   ]
  },
  {
   "cell_type": "code",
   "execution_count": 20,
   "metadata": {},
   "outputs": [],
   "source": [
    "import logging"
   ]
  },
  {
   "cell_type": "markdown",
   "metadata": {},
   "source": [
    "### Only the first call to basicConfig will be operational, all others will be ignored.\n",
    "I.e. it has to be called before any .warning(), .info(), etc. calls. If the call to those is made before,\n",
    "than a default configuration is created with the debug level set to warning, so no info or debug statements will be displayed."
   ]
  },
  {
   "cell_type": "code",
   "execution_count": 21,
   "metadata": {},
   "outputs": [],
   "source": [
    "logging.basicConfig(level=logging.DEBUG)"
   ]
  },
  {
   "cell_type": "code",
   "execution_count": 22,
   "metadata": {},
   "outputs": [
    {
     "name": "stderr",
     "output_type": "stream",
     "text": [
      "WARNING:root:Warning msg\n",
      "ERROR:root:Error msg\n",
      "CRITICAL:root:Critical msg\n"
     ]
    }
   ],
   "source": [
    "logging.warning(\"Warning msg\")\n",
    "logging.info(\"Info msg\")  ## this one will not be printed, because the default display is warning\n",
    "logging.error(\"Error msg\")\n",
    "logging.critical(\"Critical msg\")"
   ]
  },
  {
   "cell_type": "code",
   "execution_count": 23,
   "metadata": {},
   "outputs": [],
   "source": []
  },
  {
   "cell_type": "code",
   "execution_count": 18,
   "metadata": {},
   "outputs": [],
   "source": [
    "\n",
    "logger = logging.getLogger(__name__)\n",
    "logger.info('Innffoo')"
   ]
  },
  {
   "cell_type": "code",
   "execution_count": null,
   "metadata": {},
   "outputs": [],
   "source": []
  },
  {
   "cell_type": "markdown",
   "metadata": {},
   "source": [
    "## Logging to a file"
   ]
  },
  {
   "cell_type": "code",
   "execution_count": 1,
   "metadata": {},
   "outputs": [],
   "source": [
    "import logging\n",
    "logging.basicConfig(filename='out/example.log',level=logging.DEBUG)\n",
    "logging.debug('This message should go to the log file')\n",
    "logging.info('So should this')\n",
    "logging.warning('And this, too')\n"
   ]
  },
  {
   "cell_type": "code",
   "execution_count": null,
   "metadata": {},
   "outputs": [],
   "source": []
  },
  {
   "cell_type": "markdown",
   "metadata": {},
   "source": [
    "## Logging to a file and adding a formatter"
   ]
  },
  {
   "cell_type": "code",
   "execution_count": 1,
   "metadata": {},
   "outputs": [],
   "source": [
    "import logging\n",
    "format_str = '%(asctime)s - %(module)s - %(levelname)s: %(message)s'\n",
    "date_format_str = '%Y/%m/%d %H:%M:%S'\n",
    "\n",
    "logging.basicConfig(filename='out/example.log', format=format_str, datefmt=date_format_str)\n",
    "\n",
    "logging.warning('And this, too')\n",
    "logging.error('Some error here')\n",
    "logging.critical('Some critical error here')"
   ]
  },
  {
   "cell_type": "code",
   "execution_count": null,
   "metadata": {},
   "outputs": [],
   "source": []
  },
  {
   "cell_type": "markdown",
   "metadata": {},
   "source": [
    "## Logging both to console and to file "
   ]
  },
  {
   "cell_type": "code",
   "execution_count": 1,
   "metadata": {},
   "outputs": [
    {
     "ename": "TypeError",
     "evalue": "__init__() got an unexpected keyword argument 'level'",
     "output_type": "error",
     "traceback": [
      "\u001b[0;31m---------------------------------------------------------------------------\u001b[0m",
      "\u001b[0;31mTypeError\u001b[0m                                 Traceback (most recent call last)",
      "\u001b[0;32m<ipython-input-1-acb3244ba744>\u001b[0m in \u001b[0;36m<module>\u001b[0;34m()\u001b[0m\n\u001b[1;32m      3\u001b[0m \u001b[0mdate_format_str\u001b[0m \u001b[0;34m=\u001b[0m \u001b[0;34m'%Y/%m/%d %H:%M:%S'\u001b[0m\u001b[0;34m\u001b[0m\u001b[0m\n\u001b[1;32m      4\u001b[0m \u001b[0;34m\u001b[0m\u001b[0m\n\u001b[0;32m----> 5\u001b[0;31m \u001b[0mlogging\u001b[0m\u001b[0;34m.\u001b[0m\u001b[0mbasicConfig\u001b[0m\u001b[0;34m(\u001b[0m\u001b[0mformat\u001b[0m\u001b[0;34m=\u001b[0m\u001b[0mformat_str\u001b[0m\u001b[0;34m,\u001b[0m \u001b[0mdatefmt\u001b[0m\u001b[0;34m=\u001b[0m\u001b[0mdate_format_str\u001b[0m\u001b[0;34m,\u001b[0m \u001b[0mhandlers\u001b[0m\u001b[0;34m=\u001b[0m\u001b[0;34m[\u001b[0m\u001b[0mlogging\u001b[0m\u001b[0;34m.\u001b[0m\u001b[0mFileHandler\u001b[0m\u001b[0;34m(\u001b[0m\u001b[0;34m'out/example.log'\u001b[0m\u001b[0;34m,\u001b[0m \u001b[0mlevel\u001b[0m\u001b[0;34m=\u001b[0m\u001b[0mlogging\u001b[0m\u001b[0;34m.\u001b[0m\u001b[0mDEBUG\u001b[0m\u001b[0;34m)\u001b[0m\u001b[0;34m,\u001b[0m \u001b[0mlogging\u001b[0m\u001b[0;34m.\u001b[0m\u001b[0mStreamHandler\u001b[0m\u001b[0;34m(\u001b[0m\u001b[0;34m)\u001b[0m\u001b[0;34m]\u001b[0m\u001b[0;34m)\u001b[0m\u001b[0;34m\u001b[0m\u001b[0m\n\u001b[0m\u001b[1;32m      6\u001b[0m \u001b[0;34m\u001b[0m\u001b[0m\n\u001b[1;32m      7\u001b[0m \u001b[0mlogging\u001b[0m\u001b[0;34m.\u001b[0m\u001b[0minfo\u001b[0m\u001b[0;34m(\u001b[0m\u001b[0;34m'Some info'\u001b[0m\u001b[0;34m)\u001b[0m\u001b[0;34m\u001b[0m\u001b[0m\n",
      "\u001b[0;31mTypeError\u001b[0m: __init__() got an unexpected keyword argument 'level'"
     ]
    }
   ],
   "source": [
    "import logging\n",
    "format_str = '%(asctime)s - %(module)s - %(levelname)s: %(message)s'\n",
    "date_format_str = '%Y/%m/%d %H:%M:%S'\n",
    "\n",
    "logging.basicConfig(format=format_str, datefmt=date_format_str, handlers=[logging.FileHandler('out/example.log'), \n",
    "                                                                          logging.StreamHandler()])\n",
    "\n",
    "logging.info('Some info')\n",
    "logging.warning('And warning')\n",
    "logging.error('Some error here')\n",
    "logging.critical('Some critical error here')"
   ]
  },
  {
   "cell_type": "code",
   "execution_count": null,
   "metadata": {},
   "outputs": [],
   "source": []
  },
  {
   "cell_type": "markdown",
   "metadata": {},
   "source": [
    "## Logging both to console and to file #2. With different levels\n"
   ]
  },
  {
   "cell_type": "code",
   "execution_count": 2,
   "metadata": {},
   "outputs": [
    {
     "name": "stderr",
     "output_type": "stream",
     "text": [
      "2018-05-29 11:08:03,666 - <ipython-input-2-013a8d345f2d> - ERROR: Some error here\n",
      "2018-05-29 11:08:03,667 - <ipython-input-2-013a8d345f2d> - ERROR: Exception is thrown\n",
      "NoneType: None\n",
      "2018-05-29 11:08:03,667 - <ipython-input-2-013a8d345f2d> - CRITICAL: Some critical error here\n"
     ]
    }
   ],
   "source": [
    "import logging\n",
    "\n",
    "formatter = logging.Formatter('%(asctime)s - %(module)s - %(levelname)s: %(message)s')\n",
    "logger = logging.getLogger(__name__)\n",
    "## NOTE: if default debug level is not set to the lowes possible, then handlers below will not\n",
    "##       display some messages. I.e. if this line below is not there, then the default is assumed\n",
    "##       to be WARNING, and the file handler below, even though it is explicitly set to level DEBUG,\n",
    "##       will not display the debug or info messages.\n",
    "logger.setLevel(logging.DEBUG) \n",
    "\n",
    "\n",
    "fileHandler = logging.FileHandler('out/example.log')\n",
    "fileHandler.setFormatter(formatter)\n",
    "fileHandler.setLevel(logging.DEBUG)\n",
    "logger.addHandler(fileHandler)\n",
    "\n",
    "consoleHandler = logging.StreamHandler()\n",
    "consoleHandler.setFormatter(formatter)\n",
    "consoleHandler.setLevel(logging.ERROR)\n",
    "logger.addHandler(consoleHandler)\n",
    "\n",
    "\n",
    "## Now we log\n",
    "logger.debug('Debug statement')\n",
    "logger.info('Some info')\n",
    "logger.warning('And warning')\n",
    "logger.error('Some error here')\n",
    "logger.exception('Exception is thrown')\n",
    "logger.critical('Some critical error here')"
   ]
  },
  {
   "cell_type": "markdown",
   "metadata": {},
   "source": [
    "### Getting a log file name:"
   ]
  },
  {
   "cell_type": "code",
   "execution_count": 19,
   "metadata": {},
   "outputs": [
    {
     "data": {
      "text/plain": [
       "'/Users/korolo/code/oxyko/ipython-examples/out/example.log'"
      ]
     },
     "execution_count": 19,
     "metadata": {},
     "output_type": "execute_result"
    }
   ],
   "source": [
    "fileHandler.baseFilename"
   ]
  },
  {
   "cell_type": "code",
   "execution_count": 32,
   "metadata": {},
   "outputs": [
    {
     "ename": "AttributeError",
     "evalue": "'StreamHandler' object has no attribute 'baseFilename'",
     "output_type": "error",
     "traceback": [
      "\u001b[0;31m---------------------------------------------------------------------------\u001b[0m",
      "\u001b[0;31mAttributeError\u001b[0m                            Traceback (most recent call last)",
      "\u001b[0;32m<ipython-input-32-4e31e8474d84>\u001b[0m in \u001b[0;36m<module>\u001b[0;34m()\u001b[0m\n\u001b[0;32m----> 1\u001b[0;31m \u001b[0mlogging\u001b[0m\u001b[0;34m.\u001b[0m\u001b[0mgetLogger\u001b[0m\u001b[0;34m(\u001b[0m\u001b[0;34m)\u001b[0m\u001b[0;34m.\u001b[0m\u001b[0mhandlers\u001b[0m\u001b[0;34m[\u001b[0m\u001b[0;36m0\u001b[0m\u001b[0;34m]\u001b[0m\u001b[0;34m.\u001b[0m\u001b[0mbaseFilename\u001b[0m\u001b[0;34m\u001b[0m\u001b[0m\n\u001b[0m",
      "\u001b[0;31mAttributeError\u001b[0m: 'StreamHandler' object has no attribute 'baseFilename'"
     ]
    }
   ],
   "source": [
    "logging.getLogger().handlers[0].baseFilename"
   ]
  },
  {
   "cell_type": "code",
   "execution_count": 23,
   "metadata": {},
   "outputs": [
    {
     "ename": "AttributeError",
     "evalue": "'function' object has no attribute 'mro'",
     "output_type": "error",
     "traceback": [
      "\u001b[0;31m---------------------------------------------------------------------------\u001b[0m",
      "\u001b[0;31mAttributeError\u001b[0m                            Traceback (most recent call last)",
      "\u001b[0;32m<ipython-input-23-1e7a62f967f2>\u001b[0m in \u001b[0;36m<module>\u001b[0;34m()\u001b[0m\n\u001b[0;32m----> 1\u001b[0;31m \u001b[0mlogging\u001b[0m\u001b[0;34m.\u001b[0m\u001b[0mbasicConfig\u001b[0m\u001b[0;34m.\u001b[0m\u001b[0mmro\u001b[0m\u001b[0;34m\u001b[0m\u001b[0m\n\u001b[0m",
      "\u001b[0;31mAttributeError\u001b[0m: 'function' object has no attribute 'mro'"
     ]
    }
   ],
   "source": [
    "logging."
   ]
  },
  {
   "cell_type": "code",
   "execution_count": null,
   "metadata": {},
   "outputs": [],
   "source": []
  }
 ],
 "metadata": {
  "kernelspec": {
   "display_name": "Python 3",
   "language": "python",
   "name": "python3"
  },
  "language_info": {
   "codemirror_mode": {
    "name": "ipython",
    "version": 3
   },
   "file_extension": ".py",
   "mimetype": "text/x-python",
   "name": "python",
   "nbconvert_exporter": "python",
   "pygments_lexer": "ipython3",
   "version": "3.6.4"
  }
 },
 "nbformat": 4,
 "nbformat_minor": 2
}

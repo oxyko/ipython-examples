{
 "cells": [
  {
   "cell_type": "markdown",
   "metadata": {},
   "source": [
    "# Download files"
   ]
  },
  {
   "cell_type": "code",
   "execution_count": 11,
   "metadata": {},
   "outputs": [],
   "source": [
    "import requests\n",
    "import pandas as pd\n",
    "import io"
   ]
  },
  {
   "cell_type": "code",
   "execution_count": 13,
   "metadata": {},
   "outputs": [
    {
     "data": {
      "text/html": [
       "<div>\n",
       "<style scoped>\n",
       "    .dataframe tbody tr th:only-of-type {\n",
       "        vertical-align: middle;\n",
       "    }\n",
       "\n",
       "    .dataframe tbody tr th {\n",
       "        vertical-align: top;\n",
       "    }\n",
       "\n",
       "    .dataframe thead th {\n",
       "        text-align: right;\n",
       "    }\n",
       "</style>\n",
       "<table border=\"1\" class=\"dataframe\">\n",
       "  <thead>\n",
       "    <tr style=\"text-align: right;\">\n",
       "      <th></th>\n",
       "      <th>qlist</th>\n",
       "      <th>qlistlabel</th>\n",
       "      <th>eppocode</th>\n",
       "      <th>organism_prefname</th>\n",
       "      <th>yr_add</th>\n",
       "      <th>main_category</th>\n",
       "    </tr>\n",
       "  </thead>\n",
       "  <tbody>\n",
       "    <tr>\n",
       "      <th>0</th>\n",
       "      <td>1</td>\n",
       "      <td>A1 list</td>\n",
       "      <td>ACHAAC</td>\n",
       "      <td>Achatina achatina</td>\n",
       "      <td>2000</td>\n",
       "      <td>Gastropoda</td>\n",
       "    </tr>\n",
       "    <tr>\n",
       "      <th>1</th>\n",
       "      <td>1</td>\n",
       "      <td>A1 list</td>\n",
       "      <td>ACRZRU</td>\n",
       "      <td>Acropolitis rudisana</td>\n",
       "      <td>2000</td>\n",
       "      <td>Insecta</td>\n",
       "    </tr>\n",
       "    <tr>\n",
       "      <th>2</th>\n",
       "      <td>1</td>\n",
       "      <td>A1 list</td>\n",
       "      <td>APLV00</td>\n",
       "      <td>Andean potato latent virus</td>\n",
       "      <td>1995</td>\n",
       "      <td>Viruses and viroids</td>\n",
       "    </tr>\n",
       "    <tr>\n",
       "      <th>3</th>\n",
       "      <td>1</td>\n",
       "      <td>A1 list</td>\n",
       "      <td>APMOV0</td>\n",
       "      <td>Andean potato mottle virus</td>\n",
       "      <td>1995</td>\n",
       "      <td>Viruses and viroids</td>\n",
       "    </tr>\n",
       "    <tr>\n",
       "      <th>4</th>\n",
       "      <td>1</td>\n",
       "      <td>A1 list</td>\n",
       "      <td>APCF00</td>\n",
       "      <td>Apple chat fruit agent</td>\n",
       "      <td>1995</td>\n",
       "      <td>Viruses and viroids</td>\n",
       "    </tr>\n",
       "  </tbody>\n",
       "</table>\n",
       "</div>"
      ],
      "text/plain": [
       "  qlist qlistlabel eppocode           organism_prefname  yr_add  \\\n",
       "0     1    A1 list   ACHAAC           Achatina achatina    2000   \n",
       "1     1    A1 list   ACRZRU        Acropolitis rudisana    2000   \n",
       "2     1    A1 list   APLV00  Andean potato latent virus    1995   \n",
       "3     1    A1 list   APMOV0  Andean potato mottle virus    1995   \n",
       "4     1    A1 list   APCF00      Apple chat fruit agent    1995   \n",
       "\n",
       "         main_category  \n",
       "0           Gastropoda  \n",
       "1              Insecta  \n",
       "2  Viruses and viroids  \n",
       "3  Viruses and viroids  \n",
       "4  Viruses and viroids  "
      ]
     },
     "execution_count": 13,
     "metadata": {},
     "output_type": "execute_result"
    }
   ],
   "source": [
    "\n",
    "with requests.Session() as session:\n",
    "    download = session.get(\"https://gd.eppo.int/country/CA/regulated.csv\")\n",
    "    decoded_content = download.content.decode('utf-8')\n",
    "    df = pd.read_csv(io.StringIO(decoded_content))\n",
    "    \n",
    "df.head()"
   ]
  },
  {
   "cell_type": "code",
   "execution_count": null,
   "metadata": {},
   "outputs": [],
   "source": []
  }
 ],
 "metadata": {
  "kernelspec": {
   "display_name": "Python 3",
   "language": "python",
   "name": "python3"
  },
  "language_info": {
   "codemirror_mode": {
    "name": "ipython",
    "version": 3
   },
   "file_extension": ".py",
   "mimetype": "text/x-python",
   "name": "python",
   "nbconvert_exporter": "python",
   "pygments_lexer": "ipython3",
   "version": "3.6.6"
  }
 },
 "nbformat": 4,
 "nbformat_minor": 2
}

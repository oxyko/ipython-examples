{
 "cells": [
  {
   "cell_type": "markdown",
   "metadata": {},
   "source": [
    "# All about strings in python"
   ]
  },
  {
   "cell_type": "markdown",
   "metadata": {},
   "source": [
    "### Breaking a long string in code, whithout changing it (for formatting)"
   ]
  },
  {
   "cell_type": "code",
   "execution_count": 13,
   "metadata": {},
   "outputs": [
    {
     "data": {
      "text/plain": [
       "'Note that the back slash at the end of the line is to escape a next character symbol. Without it the resulting string will contain \\n characters at the line breaks, line now: \\n        Also note that this tripple-quote string does not convert special characters into their function. In other words, the text is as-is, and \\n will be printed as \\n, not a new line.'"
      ]
     },
     "execution_count": 13,
     "metadata": {},
     "output_type": "execute_result"
    }
   ],
   "source": [
    "some_long_string = '''Note that the back slash at the end of the line is to escape a next character symbol. \\\n",
    "Without it the resulting string will contain \\n characters at the line breaks, line now: \n",
    "        Also note that this tripple-quote string does not convert special characters into their function. \\\n",
    "In other words, the text is as-is, and \\n will be printed as \\n, not a new line.'''\n",
    "some_long_string"
   ]
  },
  {
   "cell_type": "code",
   "execution_count": null,
   "metadata": {},
   "outputs": [],
   "source": []
  }
 ],
 "metadata": {
  "kernelspec": {
   "display_name": "Python 3",
   "language": "python",
   "name": "python3"
  },
  "language_info": {
   "codemirror_mode": {
    "name": "ipython",
    "version": 3
   },
   "file_extension": ".py",
   "mimetype": "text/x-python",
   "name": "python",
   "nbconvert_exporter": "python",
   "pygments_lexer": "ipython3",
   "version": "3.6.4"
  }
 },
 "nbformat": 4,
 "nbformat_minor": 2
}

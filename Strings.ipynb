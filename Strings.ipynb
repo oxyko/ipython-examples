{
 "cells": [
  {
   "cell_type": "markdown",
   "metadata": {},
   "source": [
    "# All about strings in python"
   ]
  },
  {
   "cell_type": "markdown",
   "metadata": {},
   "source": [
    "### Breaking a long string in code, whithout changing it (for formatting)"
   ]
  },
  {
   "cell_type": "code",
   "execution_count": 13,
   "metadata": {},
   "outputs": [
    {
     "data": {
      "text/plain": [
       "'Note that the back slash at the end of the line is to escape a next character symbol. Without it the resulting string will contain \\n characters at the line breaks, line now: \\n        Also note that this tripple-quote string does not convert special characters into their function. In other words, the text is as-is, and \\n will be printed as \\n, not a new line.'"
      ]
     },
     "execution_count": 13,
     "metadata": {},
     "output_type": "execute_result"
    }
   ],
   "source": [
    "some_long_string = '''Note that the back slash at the end of the line is to escape a next character symbol. \\\n",
    "Without it the resulting string will contain \\n characters at the line breaks, line now: \n",
    "        Also note that this tripple-quote string does not convert special characters into their function. \\\n",
    "In other words, the text is as-is, and \\n will be printed as \\n, not a new line.'''\n",
    "some_long_string"
   ]
  },
  {
   "cell_type": "markdown",
   "metadata": {},
   "source": [
    "### Append to string"
   ]
  },
  {
   "cell_type": "code",
   "execution_count": 1,
   "metadata": {},
   "outputs": [],
   "source": [
    "st1 = \"Some string that will have stuff appended to it.\"\n",
    "st2 = \" The stuff that got appended.\""
   ]
  },
  {
   "cell_type": "code",
   "execution_count": 2,
   "metadata": {},
   "outputs": [
    {
     "data": {
      "text/plain": [
       "'Some string that will have stuff appended to it. The stuff that got appended.'"
      ]
     },
     "execution_count": 2,
     "metadata": {},
     "output_type": "execute_result"
    }
   ],
   "source": [
    "\"{}{}\".format(st1,st2)"
   ]
  },
  {
   "cell_type": "code",
   "execution_count": 3,
   "metadata": {},
   "outputs": [
    {
     "data": {
      "text/plain": [
       "'Some string that will have stuff appended to it. The stuff that got appended.'"
      ]
     },
     "execution_count": 3,
     "metadata": {},
     "output_type": "execute_result"
    }
   ],
   "source": [
    "st1 + st2"
   ]
  },
  {
   "cell_type": "markdown",
   "metadata": {},
   "source": [
    "### Printing strings"
   ]
  },
  {
   "cell_type": "code",
   "execution_count": 1,
   "metadata": {},
   "outputs": [
    {
     "name": "stdout",
     "output_type": "stream",
     "text": [
      "String one -- String 2\n"
     ]
    }
   ],
   "source": [
    "print(\"{} is before {}\".format(\"String one\", \"String 2\"))"
   ]
  },
  {
   "cell_type": "code",
   "execution_count": 2,
   "metadata": {},
   "outputs": [
    {
     "name": "stdout",
     "output_type": "stream",
     "text": [
      "First print statement.Second print statement.\n"
     ]
    }
   ],
   "source": [
    "# Print without a line break:\n",
    "print(\"First print statement.\", end='')\n",
    "print(\"Second print statement.\")"
   ]
  },
  {
   "cell_type": "code",
   "execution_count": null,
   "metadata": {},
   "outputs": [],
   "source": []
  }
 ],
 "metadata": {
  "kernelspec": {
   "display_name": "Python 3",
   "language": "python",
   "name": "python3"
  },
  "language_info": {
   "codemirror_mode": {
    "name": "ipython",
    "version": 3
   },
   "file_extension": ".py",
   "mimetype": "text/x-python",
   "name": "python",
   "nbconvert_exporter": "python",
   "pygments_lexer": "ipython3",
   "version": "3.6.6"
  }
 },
 "nbformat": 4,
 "nbformat_minor": 2
}

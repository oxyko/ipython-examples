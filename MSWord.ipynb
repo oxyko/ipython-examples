{
 "cells": [
  {
   "cell_type": "markdown",
   "metadata": {},
   "source": [
    "# Working with MS Word documents\n",
    "docx is MS Word open xml format. The file is essentially a zipped xml file, with text, objects, styles, etc. So in theory, you can open one like this:\n",
    "\n",
    "`f = open('data/sample_doc.docx', 'r')`\n",
    "\n",
    "The format started to be used in Word 2007."
   ]
  },
  {
   "cell_type": "markdown",
   "metadata": {},
   "source": [
    "## python-docx package\n",
    "python-docx package seems to be a goto package for working with docx in python. I didn't do a thorough search, but there seems to be few alternatives. So I've installed it and experimeting with it here.\n",
    "\n",
    "To install, either use pip or for conda:\n",
    "\n",
    "`conda install -c conda-forge python-docx`"
   ]
  },
  {
   "cell_type": "code",
   "execution_count": 1,
   "metadata": {},
   "outputs": [],
   "source": [
    "import docx"
   ]
  },
  {
   "cell_type": "markdown",
   "metadata": {},
   "source": [
    "### Working with existing docx documents"
   ]
  },
  {
   "cell_type": "code",
   "execution_count": 5,
   "metadata": {},
   "outputs": [],
   "source": [
    "doc = docx.Document('data/sample_doc.docx')"
   ]
  },
  {
   "cell_type": "markdown",
   "metadata": {},
   "source": [
    "##### Sections\n",
    "Are for section properties, such as margin, etc.\n",
    "https://python-docx.readthedocs.io/en/latest/api/section.html"
   ]
  },
  {
   "cell_type": "code",
   "execution_count": 11,
   "metadata": {},
   "outputs": [
    {
     "data": {
      "text/plain": [
       "2"
      ]
     },
     "execution_count": 11,
     "metadata": {},
     "output_type": "execute_result"
    }
   ],
   "source": [
    "len(doc.sections)"
   ]
  },
  {
   "cell_type": "code",
   "execution_count": 13,
   "metadata": {},
   "outputs": [
    {
     "data": {
      "text/plain": [
       "2"
      ]
     },
     "execution_count": 13,
     "metadata": {},
     "output_type": "execute_result"
    }
   ],
   "source": [
    "doc.sections[0].start_type"
   ]
  },
  {
   "cell_type": "markdown",
   "metadata": {},
   "source": [
    "#### Extracting the header text"
   ]
  },
  {
   "cell_type": "code",
   "execution_count": 15,
   "metadata": {},
   "outputs": [
    {
     "name": "stdout",
     "output_type": "stream",
     "text": [
      "SUMMARY\n",
      "BACKGROUND\n",
      "\n",
      "Other heading\n",
      "\n",
      "\n",
      "APPENDIX 1: Blah\n"
     ]
    }
   ],
   "source": [
    "for paragraph in doc.paragraphs:\n",
    "    if paragraph.style.name == 'Heading 1':\n",
    "        print(paragraph.text)"
   ]
  },
  {
   "cell_type": "markdown",
   "metadata": {},
   "source": [
    "#### Extracting the text after a specific header"
   ]
  },
  {
   "cell_type": "code",
   "execution_count": 17,
   "metadata": {},
   "outputs": [
    {
     "name": "stdout",
     "output_type": "stream",
     "text": [
      "\n",
      "Bla-bla-bla Bla-bla-bla Bla-bla-bla Bla-bla-bla\n",
      "Bla-bla-bla\n",
      "Table 3: Summary of Stuff\n",
      "\n",
      "\n",
      "APPENDIX 1: Blah\n",
      "\n",
      "Different tables for your consideration \t\t\n",
      "\n",
      "\n"
     ]
    }
   ],
   "source": [
    "start_index = [i for i, parag in enumerate(doc.paragraphs) if \"Other heading\" in parag.text]\n",
    "\n",
    "if start_index:\n",
    "    for i, parag in enumerate(doc.paragraphs):\n",
    "        if i > start_index[0]:\n",
    "            print(parag.text)"
   ]
  },
  {
   "cell_type": "markdown",
   "metadata": {},
   "source": [
    "#### Extracting the text between two headers after a specific header\n",
    "\n",
    "Note that the table text does not get extracted. Tables have to be processed separately, see below."
   ]
  },
  {
   "cell_type": "code",
   "execution_count": 25,
   "metadata": {},
   "outputs": [],
   "source": [
    "start_index = [i for i, parag in enumerate(doc.paragraphs) if \"Other heading\" in parag.text]"
   ]
  },
  {
   "cell_type": "code",
   "execution_count": 26,
   "metadata": {},
   "outputs": [
    {
     "data": {
      "text/plain": [
       "[50]"
      ]
     },
     "execution_count": 26,
     "metadata": {},
     "output_type": "execute_result"
    }
   ],
   "source": [
    "start_index"
   ]
  },
  {
   "cell_type": "code",
   "execution_count": 27,
   "metadata": {},
   "outputs": [
    {
     "data": {
      "text/plain": [
       "[24, 29, 49, 50, 55, 56, 57]"
      ]
     },
     "execution_count": 27,
     "metadata": {},
     "output_type": "execute_result"
    }
   ],
   "source": [
    "header_indexes = [i for i, parag in enumerate(doc.paragraphs) if parag.style.name == \"Heading 1\"]\n",
    "header_indexes"
   ]
  },
  {
   "cell_type": "code",
   "execution_count": 31,
   "metadata": {},
   "outputs": [
    {
     "data": {
      "text/plain": [
       "55"
      ]
     },
     "execution_count": 31,
     "metadata": {},
     "output_type": "execute_result"
    }
   ],
   "source": [
    "end_index = header_indexes[header_indexes.index(start_index[0]) + 1]\n",
    "end_index"
   ]
  },
  {
   "cell_type": "code",
   "execution_count": 32,
   "metadata": {},
   "outputs": [
    {
     "name": "stdout",
     "output_type": "stream",
     "text": [
      "\n",
      "Bla-bla-bla Bla-bla-bla Bla-bla-bla Bla-bla-bla\n",
      "Bla-bla-bla\n",
      "Table 3: Summary of Stuff\n"
     ]
    }
   ],
   "source": [
    "for i, parag in enumerate(doc.paragraphs):\n",
    "    if i > start_index[0] and i < end_index:\n",
    "        print(parag.text)"
   ]
  },
  {
   "cell_type": "markdown",
   "metadata": {},
   "source": [
    "#### Tables"
   ]
  },
  {
   "cell_type": "code",
   "execution_count": 4,
   "metadata": {},
   "outputs": [
    {
     "data": {
      "text/plain": [
       "[<docx.table.Table at 0x10f548550>,\n",
       " <docx.table.Table at 0x111836160>,\n",
       " <docx.table.Table at 0x1118360f0>,\n",
       " <docx.table.Table at 0x111836128>,\n",
       " <docx.table.Table at 0x1118361d0>]"
      ]
     },
     "execution_count": 4,
     "metadata": {},
     "output_type": "execute_result"
    }
   ],
   "source": [
    "doc.tables"
   ]
  },
  {
   "cell_type": "code",
   "execution_count": 22,
   "metadata": {},
   "outputs": [
    {
     "data": {
      "text/plain": [
       "<docx.table.Table at 0x11e277470>"
      ]
     },
     "execution_count": 22,
     "metadata": {},
     "output_type": "execute_result"
    }
   ],
   "source": [
    "doc.tables[-1]"
   ]
  },
  {
   "cell_type": "code",
   "execution_count": 3,
   "metadata": {},
   "outputs": [
    {
     "data": {
      "text/plain": [
       "''"
      ]
     },
     "execution_count": 3,
     "metadata": {},
     "output_type": "execute_result"
    }
   ],
   "source": [
    "doc.core_properties.title"
   ]
  },
  {
   "cell_type": "code",
   "execution_count": 24,
   "metadata": {},
   "outputs": [
    {
     "name": "stdout",
     "output_type": "stream",
     "text": [
      "\n",
      "Group2|Group2|Group2|Group2|Group2|\n",
      "Pest Name|Present |Interesting|Fluffy|Information|\n",
      "Name 3|Y|N|N|bla: lalalalala lal alalala alala alamala|\n",
      "Name 4|Y|N|N|bla: Some description text|\n",
      "Name 5|N|N|N|bla: Some text that is not interesting and not intended to be read by a sensible being)\n",
      "la: Some text that is not interesting and not intended to be read by a sensible being|\n",
      "Name 6|Y|N|N|bla: Some text that is not interesting and not intended to be read by a sensible being|"
     ]
    }
   ],
   "source": [
    "for i, row in enumerate(doc.tables[-1].rows):\n",
    "    print()\n",
    "    for cell in row.cells:\n",
    "        print(\"{}\".format(cell.text), end='|')"
   ]
  },
  {
   "cell_type": "code",
   "execution_count": 25,
   "metadata": {},
   "outputs": [],
   "source": [
    "# Read a table in the docx document into a dataframe\n",
    "import pandas as pd\n",
    "\n",
    "def load_table(docx_table):\n",
    "    table_data = []\n",
    "    \n",
    "    for i, row in enumerate(docx_table.rows):\n",
    "        row_data = []\n",
    "        for cell in row.cells:\n",
    "            row_data.append(cell.text)\n",
    "        table_data.append(row_data)\n",
    "\n",
    "    return pd.DataFrame(table_data)\n",
    "    "
   ]
  },
  {
   "cell_type": "code",
   "execution_count": 26,
   "metadata": {},
   "outputs": [
    {
     "data": {
      "text/html": [
       "<div>\n",
       "<style scoped>\n",
       "    .dataframe tbody tr th:only-of-type {\n",
       "        vertical-align: middle;\n",
       "    }\n",
       "\n",
       "    .dataframe tbody tr th {\n",
       "        vertical-align: top;\n",
       "    }\n",
       "\n",
       "    .dataframe thead th {\n",
       "        text-align: right;\n",
       "    }\n",
       "</style>\n",
       "<table border=\"1\" class=\"dataframe\">\n",
       "  <thead>\n",
       "    <tr style=\"text-align: right;\">\n",
       "      <th></th>\n",
       "      <th>0</th>\n",
       "      <th>1</th>\n",
       "      <th>2</th>\n",
       "      <th>3</th>\n",
       "      <th>4</th>\n",
       "    </tr>\n",
       "  </thead>\n",
       "  <tbody>\n",
       "    <tr>\n",
       "      <th>0</th>\n",
       "      <td>Group2</td>\n",
       "      <td>Group2</td>\n",
       "      <td>Group2</td>\n",
       "      <td>Group2</td>\n",
       "      <td>Group2</td>\n",
       "    </tr>\n",
       "    <tr>\n",
       "      <th>1</th>\n",
       "      <td>Pest Name</td>\n",
       "      <td>Present</td>\n",
       "      <td>Interesting</td>\n",
       "      <td>Fluffy</td>\n",
       "      <td>Information</td>\n",
       "    </tr>\n",
       "    <tr>\n",
       "      <th>2</th>\n",
       "      <td>Name 3</td>\n",
       "      <td>Y</td>\n",
       "      <td>N</td>\n",
       "      <td>N</td>\n",
       "      <td>bla: lalalalala lal alalala alala alamala</td>\n",
       "    </tr>\n",
       "    <tr>\n",
       "      <th>3</th>\n",
       "      <td>Name 4</td>\n",
       "      <td>Y</td>\n",
       "      <td>N</td>\n",
       "      <td>N</td>\n",
       "      <td>bla: Some description text</td>\n",
       "    </tr>\n",
       "    <tr>\n",
       "      <th>4</th>\n",
       "      <td>Name 5</td>\n",
       "      <td>N</td>\n",
       "      <td>N</td>\n",
       "      <td>N</td>\n",
       "      <td>bla: Some text that is not interesting and not...</td>\n",
       "    </tr>\n",
       "    <tr>\n",
       "      <th>5</th>\n",
       "      <td>Name 6</td>\n",
       "      <td>Y</td>\n",
       "      <td>N</td>\n",
       "      <td>N</td>\n",
       "      <td>bla: Some text that is not interesting and not...</td>\n",
       "    </tr>\n",
       "  </tbody>\n",
       "</table>\n",
       "</div>"
      ],
      "text/plain": [
       "           0         1            2       3  \\\n",
       "0     Group2    Group2       Group2  Group2   \n",
       "1  Pest Name  Present   Interesting  Fluffy   \n",
       "2     Name 3         Y            N       N   \n",
       "3     Name 4         Y            N       N   \n",
       "4     Name 5         N            N       N   \n",
       "5     Name 6         Y            N       N   \n",
       "\n",
       "                                                   4  \n",
       "0                                             Group2  \n",
       "1                                        Information  \n",
       "2          bla: lalalalala lal alalala alala alamala  \n",
       "3                         bla: Some description text  \n",
       "4  bla: Some text that is not interesting and not...  \n",
       "5  bla: Some text that is not interesting and not...  "
      ]
     },
     "execution_count": 26,
     "metadata": {},
     "output_type": "execute_result"
    }
   ],
   "source": [
    "df = load_table(doc.tables[-1])\n",
    "df"
   ]
  },
  {
   "cell_type": "code",
   "execution_count": 28,
   "metadata": {},
   "outputs": [
    {
     "data": {
      "text/html": [
       "<div>\n",
       "<style scoped>\n",
       "    .dataframe tbody tr th:only-of-type {\n",
       "        vertical-align: middle;\n",
       "    }\n",
       "\n",
       "    .dataframe tbody tr th {\n",
       "        vertical-align: top;\n",
       "    }\n",
       "\n",
       "    .dataframe thead th {\n",
       "        text-align: right;\n",
       "    }\n",
       "</style>\n",
       "<table border=\"1\" class=\"dataframe\">\n",
       "  <thead>\n",
       "    <tr style=\"text-align: right;\">\n",
       "      <th></th>\n",
       "      <th>0</th>\n",
       "      <th>1</th>\n",
       "      <th>2</th>\n",
       "      <th>3</th>\n",
       "      <th>4</th>\n",
       "    </tr>\n",
       "  </thead>\n",
       "  <tbody>\n",
       "    <tr>\n",
       "      <th>0</th>\n",
       "      <td>Group1</td>\n",
       "      <td>Group1</td>\n",
       "      <td>Group1</td>\n",
       "      <td>Group1</td>\n",
       "      <td>Group1</td>\n",
       "    </tr>\n",
       "    <tr>\n",
       "      <th>1</th>\n",
       "      <td>Name</td>\n",
       "      <td>Present</td>\n",
       "      <td>Interesting</td>\n",
       "      <td>Fluffy</td>\n",
       "      <td>Information</td>\n",
       "    </tr>\n",
       "    <tr>\n",
       "      <th>2</th>\n",
       "      <td>Name 1</td>\n",
       "      <td>Y</td>\n",
       "      <td>N</td>\n",
       "      <td>N</td>\n",
       "      <td>Some info about name 1</td>\n",
       "    </tr>\n",
       "    <tr>\n",
       "      <th>3</th>\n",
       "      <td>Name 2</td>\n",
       "      <td>Y</td>\n",
       "      <td>N</td>\n",
       "      <td>N</td>\n",
       "      <td>bla: notinteresting</td>\n",
       "    </tr>\n",
       "  </tbody>\n",
       "</table>\n",
       "</div>"
      ],
      "text/plain": [
       "        0         1            2       3                       4\n",
       "0  Group1    Group1       Group1  Group1                  Group1\n",
       "1    Name  Present   Interesting  Fluffy             Information\n",
       "2  Name 1         Y            N       N  Some info about name 1\n",
       "3  Name 2         Y            N       N     bla: notinteresting"
      ]
     },
     "execution_count": 28,
     "metadata": {},
     "output_type": "execute_result"
    }
   ],
   "source": [
    "df = load_table(doc.tables[3])\n",
    "df"
   ]
  },
  {
   "cell_type": "code",
   "execution_count": null,
   "metadata": {},
   "outputs": [],
   "source": []
  }
 ],
 "metadata": {
  "kernelspec": {
   "display_name": "Python 3",
   "language": "python",
   "name": "python3"
  },
  "language_info": {
   "codemirror_mode": {
    "name": "ipython",
    "version": 3
   },
   "file_extension": ".py",
   "mimetype": "text/x-python",
   "name": "python",
   "nbconvert_exporter": "python",
   "pygments_lexer": "ipython3",
   "version": "3.6.6"
  }
 },
 "nbformat": 4,
 "nbformat_minor": 2
}

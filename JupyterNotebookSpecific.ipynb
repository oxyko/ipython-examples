{
 "cells": [
  {
   "cell_type": "markdown",
   "metadata": {},
   "source": [
    "# Jupyter Notebook specific notation\n",
    "\n",
    "This notebook contains examples of markup formatting and jupyter notebook (ipython) specific functions that make working with the notebooks easier, faster and more enjoyable.\n"
   ]
  },
  {
   "cell_type": "markdown",
   "metadata": {},
   "source": [
    "## Markup basics\n",
    "\n",
    "_italic_ lala __bold__ \n",
    "\n",
    "`Monospaced text. Also useful to display text as is with new lines,\n",
    "multiple         spaces,  etc.`\n",
    "\n",
    "Html line break between this <br/> \n",
    "and that. \n",
    "\n",
    "- bullet 1\n",
    "- bullet 2 \n",
    "\n",
    "\n",
    "1. Numbered list\n",
    "1. Numbered list\n"
   ]
  },
  {
   "cell_type": "markdown",
   "metadata": {},
   "source": [
    "## Magic commands"
   ]
  },
  {
   "cell_type": "code",
   "execution_count": 14,
   "metadata": {},
   "outputs": [],
   "source": [
    "%magic  ## Help on magic commands. Opens a new window."
   ]
  },
  {
   "cell_type": "code",
   "execution_count": 21,
   "metadata": {},
   "outputs": [
    {
     "data": {
      "application/json": {
       "cell": {
        "!": "OSMagics",
        "HTML": "Other",
        "SVG": "Other",
        "bash": "Other",
        "capture": "ExecutionMagics",
        "debug": "ExecutionMagics",
        "file": "Other",
        "html": "DisplayMagics",
        "javascript": "DisplayMagics",
        "js": "DisplayMagics",
        "latex": "DisplayMagics",
        "markdown": "DisplayMagics",
        "perl": "Other",
        "prun": "ExecutionMagics",
        "pypy": "Other",
        "python": "Other",
        "python2": "Other",
        "python3": "Other",
        "ruby": "Other",
        "script": "ScriptMagics",
        "sh": "Other",
        "svg": "DisplayMagics",
        "sx": "OSMagics",
        "system": "OSMagics",
        "time": "ExecutionMagics",
        "timeit": "ExecutionMagics",
        "writefile": "OSMagics"
       },
       "line": {
        "alias": "OSMagics",
        "alias_magic": "BasicMagics",
        "autocall": "AutoMagics",
        "automagic": "AutoMagics",
        "autosave": "KernelMagics",
        "bookmark": "OSMagics",
        "cat": "Other",
        "cd": "OSMagics",
        "clear": "KernelMagics",
        "colors": "BasicMagics",
        "config": "ConfigMagics",
        "connect_info": "KernelMagics",
        "cp": "Other",
        "debug": "ExecutionMagics",
        "dhist": "OSMagics",
        "dirs": "OSMagics",
        "doctest_mode": "BasicMagics",
        "ed": "Other",
        "edit": "KernelMagics",
        "env": "OSMagics",
        "gui": "BasicMagics",
        "hist": "Other",
        "history": "HistoryMagics",
        "killbgscripts": "ScriptMagics",
        "ldir": "Other",
        "less": "KernelMagics",
        "lf": "Other",
        "lk": "Other",
        "ll": "Other",
        "load": "CodeMagics",
        "load_ext": "ExtensionMagics",
        "loadpy": "CodeMagics",
        "logoff": "LoggingMagics",
        "logon": "LoggingMagics",
        "logstart": "LoggingMagics",
        "logstate": "LoggingMagics",
        "logstop": "LoggingMagics",
        "ls": "Other",
        "lsmagic": "BasicMagics",
        "lx": "Other",
        "macro": "ExecutionMagics",
        "magic": "BasicMagics",
        "man": "KernelMagics",
        "matplotlib": "PylabMagics",
        "mkdir": "Other",
        "more": "KernelMagics",
        "mv": "Other",
        "notebook": "BasicMagics",
        "page": "BasicMagics",
        "pastebin": "CodeMagics",
        "pdb": "ExecutionMagics",
        "pdef": "NamespaceMagics",
        "pdoc": "NamespaceMagics",
        "pfile": "NamespaceMagics",
        "pinfo": "NamespaceMagics",
        "pinfo2": "NamespaceMagics",
        "pip": "BasicMagics",
        "popd": "OSMagics",
        "pprint": "BasicMagics",
        "precision": "BasicMagics",
        "profile": "BasicMagics",
        "prun": "ExecutionMagics",
        "psearch": "NamespaceMagics",
        "psource": "NamespaceMagics",
        "pushd": "OSMagics",
        "pwd": "OSMagics",
        "pycat": "OSMagics",
        "pylab": "PylabMagics",
        "qtconsole": "KernelMagics",
        "quickref": "BasicMagics",
        "recall": "HistoryMagics",
        "rehashx": "OSMagics",
        "reload_ext": "ExtensionMagics",
        "rep": "Other",
        "rerun": "HistoryMagics",
        "reset": "NamespaceMagics",
        "reset_selective": "NamespaceMagics",
        "rm": "Other",
        "rmdir": "Other",
        "run": "ExecutionMagics",
        "save": "CodeMagics",
        "sc": "OSMagics",
        "set_env": "OSMagics",
        "store": "StoreMagics",
        "sx": "OSMagics",
        "system": "OSMagics",
        "tb": "ExecutionMagics",
        "time": "ExecutionMagics",
        "timeit": "ExecutionMagics",
        "unalias": "OSMagics",
        "unload_ext": "ExtensionMagics",
        "who": "NamespaceMagics",
        "who_ls": "NamespaceMagics",
        "whos": "NamespaceMagics",
        "xdel": "NamespaceMagics",
        "xmode": "BasicMagics"
       }
      },
      "text/plain": [
       "Available line magics:\n",
       "%alias  %alias_magic  %autocall  %automagic  %autosave  %bookmark  %cat  %cd  %clear  %colors  %config  %connect_info  %cp  %debug  %dhist  %dirs  %doctest_mode  %ed  %edit  %env  %gui  %hist  %history  %killbgscripts  %ldir  %less  %lf  %lk  %ll  %load  %load_ext  %loadpy  %logoff  %logon  %logstart  %logstate  %logstop  %ls  %lsmagic  %lx  %macro  %magic  %man  %matplotlib  %mkdir  %more  %mv  %notebook  %page  %pastebin  %pdb  %pdef  %pdoc  %pfile  %pinfo  %pinfo2  %popd  %pprint  %precision  %profile  %prun  %psearch  %psource  %pushd  %pwd  %pycat  %pylab  %qtconsole  %quickref  %recall  %rehashx  %reload_ext  %rep  %rerun  %reset  %reset_selective  %rm  %rmdir  %run  %save  %sc  %set_env  %store  %sx  %system  %tb  %time  %timeit  %unalias  %unload_ext  %who  %who_ls  %whos  %xdel  %xmode\n",
       "\n",
       "Available cell magics:\n",
       "%%!  %%HTML  %%SVG  %%bash  %%capture  %%debug  %%file  %%html  %%javascript  %%js  %%latex  %%markdown  %%perl  %%prun  %%pypy  %%python  %%python2  %%python3  %%ruby  %%script  %%sh  %%svg  %%sx  %%system  %%time  %%timeit  %%writefile\n",
       "\n",
       "Automagic is ON, % prefix IS NOT needed for line magics."
      ]
     },
     "execution_count": 21,
     "metadata": {},
     "output_type": "execute_result"
    }
   ],
   "source": [
    "%lsmagic ## List magic commands here."
   ]
  },
  {
   "cell_type": "markdown",
   "metadata": {},
   "source": [
    "### Timing execution\n",
    "\n",
    "Default _timeit_ commanfd runs statement(s) 7 times for 10,000,000 loops each to find mean and deviation running time. If this is unacceptable (due to the long execution time of the code), use parameters _-r_ for runs and _-n_ for loops. See below."
   ]
  },
  {
   "cell_type": "code",
   "execution_count": 22,
   "metadata": {},
   "outputs": [
    {
     "name": "stdout",
     "output_type": "stream",
     "text": [
      "156 ns ± 3.54 ns per loop (mean ± std. dev. of 7 runs, 10000000 loops each)\n"
     ]
    }
   ],
   "source": [
    "# Time on one line\n",
    "%timeit range(3)"
   ]
  },
  {
   "cell_type": "code",
   "execution_count": 23,
   "metadata": {},
   "outputs": [
    {
     "name": "stdout",
     "output_type": "stream",
     "text": [
      "300 ns ± 1.62 ns per loop (mean ± std. dev. of 7 runs, 1000000 loops each)\n"
     ]
    }
   ],
   "source": [
    "%%timeit\n",
    "\n",
    "# Time what's in a cell (%%timeit has to be the first line in a cell)\n",
    "\n",
    "range(2)\n",
    "range(1)"
   ]
  },
  {
   "cell_type": "code",
   "execution_count": 24,
   "metadata": {},
   "outputs": [
    {
     "name": "stdout",
     "output_type": "stream",
     "text": [
      "712 ns ± 0 ns per loop (mean ± std. dev. of 1 run, 1 loop each)\n"
     ]
    }
   ],
   "source": [
    "%%timeit -r1 -n1\n",
    "range(5)"
   ]
  },
  {
   "cell_type": "markdown",
   "metadata": {},
   "source": [
    "### Other"
   ]
  },
  {
   "cell_type": "code",
   "execution_count": 25,
   "metadata": {},
   "outputs": [
    {
     "name": "stdout",
     "output_type": "stream",
     "text": [
      "total 3760\r\n",
      "-rw-r--r--  1 korolo  10513     2922 14 Jun 13:30 DateTime.ipynb\r\n",
      "-rw-r--r--  1 korolo  10513     5774 29 May 17:03 Dictionary.ipynb\r\n",
      "-rw-r--r--  1 korolo  10513    72632 22 Jun 09:35 EntrezNCBI.ipynb\r\n",
      "-rw-r--r--  1 korolo  10513    49071  6 Jun 15:14 FTP.ipynb\r\n",
      "-rw-r--r--  1 korolo  10513    12390 15 Jun 16:09 Files.ipynb\r\n",
      "-rw-r--r--  1 korolo  10513     8395 28 Jun 14:04 List.ipynb\r\n",
      "-rw-r--r--  1 korolo  10513    11564 31 May 14:36 Logging.ipynb\r\n",
      "-rw-r--r--  1 korolo  10513     9033 17 May 16:48 OO.ipynb\r\n",
      "-rw-r--r--  1 korolo  10513   246112 28 Jun 12:07 PandasDataFrames.ipynb\r\n",
      "-rw-r--r--  1 korolo  10513     5912 11 Jul 16:57 RegEx.ipynb\r\n",
      "-rw-r--r--  1 korolo  10513     3316 12 Jun 10:20 Sets.ipynb\r\n",
      "-rw-r--r--  1 korolo  10513     1929 21 Jun 10:51 Strings.ipynb\r\n",
      "-rw-r--r--  1 korolo  10513  1436820  8 May 12:59 Visualization.ipynb\r\n",
      "drwxr-xr-x@ 8 korolo  10513      256 11 Jun 15:54 \u001b[1m\u001b[33mdata\u001b[m\u001b[m/\r\n",
      "-rw-r--r--  1 korolo  10513    10637 13 Jul 13:52 jupyter_notebook_specific.ipynb\r\n",
      "-rw-r--r--  1 korolo  10513    17292  1 May 09:02 ml.ipynb\r\n",
      "drwxr-xr-x  7 korolo  10513      224 12 Jun 13:01 \u001b[1m\u001b[33mout\u001b[m\u001b[m/\r\n"
     ]
    }
   ],
   "source": [
    "%ll"
   ]
  },
  {
   "cell_type": "code",
   "execution_count": 26,
   "metadata": {},
   "outputs": [
    {
     "data": {
      "text/plain": [
       "'/Users/korolo/code/oxyko/ipython-examples'"
      ]
     },
     "execution_count": 26,
     "metadata": {},
     "output_type": "execute_result"
    }
   ],
   "source": [
    "%pwd"
   ]
  },
  {
   "cell_type": "markdown",
   "metadata": {},
   "source": [
    "## Cython\n",
    "\n",
    "Cython is a C extension for Python. It is used for performance optimization.  \n",
    "\n",
    "Note: to use it, C compiler has to be installed on your machine. Because ot this, the code will not be as portable as jupt python.\n",
    "\n",
    "Info:\n",
    "- Cython official site: http://cython.org/\n",
    "- Cython Tutorial: http://cython.readthedocs.io/en/latest/src/tutorial/\n",
    "- Jake Vanderplas - Optimization with Cython: Ising Models (Part 2): https://www.youtube.com/watch?v=LOzcSuw3yOY"
   ]
  },
  {
   "cell_type": "markdown",
   "metadata": {},
   "source": [
    "### Load Cython extension\n",
    "Only needs to be done once per notebook."
   ]
  },
  {
   "cell_type": "code",
   "execution_count": 28,
   "metadata": {},
   "outputs": [
    {
     "name": "stdout",
     "output_type": "stream",
     "text": [
      "The Cython extension is already loaded. To reload it, use:\n",
      "  %reload_ext Cython\n"
     ]
    }
   ],
   "source": [
    "%load_ext Cython\n",
    "%config IPCompleter.greedy=True"
   ]
  },
  {
   "cell_type": "markdown",
   "metadata": {},
   "source": [
    "### Use cython\n",
    "\n",
    "Just adding _%%cython_ at the top of a cell with python code already improved the execution time. \n",
    "\n",
    "Note that whatever is in the _%%cython_ cell is compiled separately from the rest of the notebook, so all the imports you have in the notebook have to be imported there again, etc."
   ]
  },
  {
   "cell_type": "code",
   "execution_count": 44,
   "metadata": {},
   "outputs": [],
   "source": [
    "def python_function():\n",
    "    range(10)"
   ]
  },
  {
   "cell_type": "code",
   "execution_count": 45,
   "metadata": {},
   "outputs": [],
   "source": [
    "%%cython\n",
    "def cython_function():\n",
    "    range(10)"
   ]
  },
  {
   "cell_type": "code",
   "execution_count": 46,
   "metadata": {},
   "outputs": [
    {
     "name": "stdout",
     "output_type": "stream",
     "text": [
      "737 ns ± 418 ns per loop (mean ± std. dev. of 2 runs, 4 loops each)\n"
     ]
    }
   ],
   "source": [
    "%%timeit -r2 -n4\n",
    "python_function()"
   ]
  },
  {
   "cell_type": "code",
   "execution_count": 47,
   "metadata": {},
   "outputs": [
    {
     "name": "stdout",
     "output_type": "stream",
     "text": [
      "325 ns ± 112 ns per loop (mean ± std. dev. of 2 runs, 4 loops each)\n"
     ]
    }
   ],
   "source": [
    "%%timeit -r2 -n4\n",
    "cython_function()"
   ]
  },
  {
   "cell_type": "markdown",
   "metadata": {},
   "source": [
    "When using any datatypes in the function (unlike the example above), we can improve performance further by using Cython datatypes, instead of python's duck typing:"
   ]
  },
  {
   "cell_type": "code",
   "execution_count": 61,
   "metadata": {},
   "outputs": [],
   "source": [
    "%%cython\n",
    "\n",
    "## i.e. this:\n",
    "cpdef int cython_function_1():\n",
    "    cdef int x = 0\n",
    "    for i in range(0,10):\n",
    "        x += 3\n",
    "    return x\n",
    "\n",
    "## as opposed to this:\n",
    "def cython_function_2():\n",
    "    x = 0\n",
    "    for i in range(0,10):\n",
    "        x += 3\n",
    "    return x\n"
   ]
  },
  {
   "cell_type": "code",
   "execution_count": 62,
   "metadata": {},
   "outputs": [
    {
     "name": "stdout",
     "output_type": "stream",
     "text": [
      "185 ns ± 97.4 ns per loop (mean ± std. dev. of 2 runs, 4 loops each)\n",
      "216 ns ± 79.9 ns per loop (mean ± std. dev. of 2 runs, 4 loops each)\n"
     ]
    }
   ],
   "source": [
    "%timeit -r2 -n4 cython_function_1()\n",
    "%timeit -r2 -n4 cython_function_2()"
   ]
  },
  {
   "cell_type": "code",
   "execution_count": null,
   "metadata": {},
   "outputs": [],
   "source": []
  }
 ],
 "metadata": {
  "kernelspec": {
   "display_name": "Python 3",
   "language": "python",
   "name": "python3"
  },
  "language_info": {
   "codemirror_mode": {
    "name": "ipython",
    "version": 3
   },
   "file_extension": ".py",
   "mimetype": "text/x-python",
   "name": "python",
   "nbconvert_exporter": "python",
   "pygments_lexer": "ipython3",
   "version": "3.6.4"
  }
 },
 "nbformat": 4,
 "nbformat_minor": 2
}

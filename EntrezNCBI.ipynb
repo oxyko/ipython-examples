{
 "cells": [
  {
   "cell_type": "markdown",
   "metadata": {},
   "source": [
    "# Using Entrex package to work with NCBI data\n",
    "\n",
    "Small simple examples of downloading and working with NCBI data.\n",
    "Requirements: biopython\n",
    "\n",
    "__Documentation__: https://www.ncbi.nlm.nih.gov/books/NBK25501/\n",
    "\n",
    "Check which data and types are supported by Entrez: \n",
    "\n",
    "Before using Biopython to access the NCBI’s online resources (via Bio.Entrez or some of the other modules), please read the NCBI’s Entrez User Requirements. If the NCBI finds you are abusing their systems, they can and will ban your access!\n",
    "\n",
    "To paraphrase: For any series of more than 100 requests, do this at weekends or outside USA peak times. This is up to you to obey. Use the http://eutils.ncbi.nlm.nih.gov address, not the standard NCBI Web address. Biopython uses this web address. Make no more than three requests every seconds (relaxed from at most one request every three seconds in early 2009). This is automatically enforced by Biopython. \n",
    "\n",
    "For large queries, the NCBI also recommend using their session history feature (the WebEnv session cookie string, see Section 8.15). This is only slightly more complicated.\n",
    "\n",
    "Tech support (and to register the tool, accessing NCBI): \n"
   ]
  },
  {
   "cell_type": "code",
   "execution_count": 51,
   "metadata": {},
   "outputs": [],
   "source": [
    "import Bio.Entrez as etz\n",
    "import Bio.SeqIO as SeqIO\n",
    "import pandas as pd"
   ]
  },
  {
   "cell_type": "markdown",
   "metadata": {},
   "source": [
    "#### Best practise is to register the email, before querying NCBI\n",
    "Otherwise, there will be a warning with each response that you have not registered\n",
    "\n",
    "Use the optional email parameter so the NCBI can contact you if there is a problem. You can either explicitly set this as a parameter with each call to Entrez (e.g. include email=”A.N.Other@example.com” in the argument list), or as of Biopython 1.48, you can set a global email address"
   ]
  },
  {
   "cell_type": "code",
   "execution_count": 52,
   "metadata": {},
   "outputs": [],
   "source": [
    "etz.email=\"oksana.korol@agr.gc.ca\""
   ]
  },
  {
   "cell_type": "markdown",
   "metadata": {},
   "source": [
    "If you are using Biopython within some larger software suite, use the tool parameter to specify this. You can either explicitly set the tool name as a parameter with each call to Entrez (e.g. include tool=”MyLocalScript” in the argument list), or as of Biopython 1.54, you can set a global tool name:"
   ]
  },
  {
   "cell_type": "code",
   "execution_count": 53,
   "metadata": {},
   "outputs": [],
   "source": [
    "etz.tool = \"AAFC-reference-data-manager\""
   ]
  },
  {
   "cell_type": "markdown",
   "metadata": {},
   "source": [
    "### List databases, available at NCBI"
   ]
  },
  {
   "cell_type": "code",
   "execution_count": 54,
   "metadata": {},
   "outputs": [
    {
     "data": {
      "text/plain": [
       "'<?xml version=\"1.0\" encoding=\"UTF-8\" ?>\\n<!DOCTYPE eInfoResult PUBLIC \"-//NLM//DTD einfo 20130322//EN\" \"https://eutils.ncbi.nlm.nih.gov/eutils/dtd/20130322/einfo.dtd\">\\n<eInfoResult>\\n<DbList>\\n\\n\\t<DbName>pubmed</DbName>\\n\\t<DbName>protein</DbName>\\n\\t<DbName>nuccore</DbName>\\n\\t<DbName>ipg</DbName>\\n\\t<DbName>nucleotide</DbName>\\n\\t<DbName>nucgss</DbName>\\n\\t<DbName>nucest</DbName>\\n\\t<DbName>structure</DbName>\\n\\t<DbName>sparcle</DbName>\\n\\t<DbName>genome</DbName>\\n\\t<DbName>annotinfo</DbName>\\n\\t<DbName>assembly</DbName>\\n\\t<DbName>bioproject</DbName>\\n\\t<DbName>biosample</DbName>\\n\\t<DbName>blastdbinfo</DbName>\\n\\t<DbName>books</DbName>\\n\\t<DbName>cdd</DbName>\\n\\t<DbName>clinvar</DbName>\\n\\t<DbName>clone</DbName>\\n\\t<DbName>gap</DbName>\\n\\t<DbName>gapplus</DbName>\\n\\t<DbName>grasp</DbName>\\n\\t<DbName>dbvar</DbName>\\n\\t<DbName>gene</DbName>\\n\\t<DbName>gds</DbName>\\n\\t<DbName>geoprofiles</DbName>\\n\\t<DbName>homologene</DbName>\\n\\t<DbName>medgen</DbName>\\n\\t<DbName>mesh</DbName>\\n\\t<DbName>ncbisearch</DbName>\\n\\t<DbName>nlmcatalog</DbName>\\n\\t<DbName>omim</DbName>\\n\\t<DbName>orgtrack</DbName>\\n\\t<DbName>pmc</DbName>\\n\\t<DbName>popset</DbName>\\n\\t<DbName>probe</DbName>\\n\\t<DbName>proteinclusters</DbName>\\n\\t<DbName>pcassay</DbName>\\n\\t<DbName>biosystems</DbName>\\n\\t<DbName>pccompound</DbName>\\n\\t<DbName>pcsubstance</DbName>\\n\\t<DbName>pubmedhealth</DbName>\\n\\t<DbName>seqannot</DbName>\\n\\t<DbName>snp</DbName>\\n\\t<DbName>sra</DbName>\\n\\t<DbName>taxonomy</DbName>\\n\\t<DbName>biocollections</DbName>\\n\\t<DbName>unigene</DbName>\\n\\t<DbName>gencoll</DbName>\\n\\t<DbName>gtr</DbName>\\n</DbList>\\n\\n</eInfoResult>\\n'"
      ]
     },
     "execution_count": 54,
     "metadata": {},
     "output_type": "execute_result"
    }
   ],
   "source": [
    "handler = etz.einfo()\n",
    "response = handler.read()\n",
    "handler.close()\n",
    "response"
   ]
  },
  {
   "cell_type": "code",
   "execution_count": 55,
   "metadata": {},
   "outputs": [
    {
     "data": {
      "text/plain": [
       "{'DbList': ['pubmed', 'protein', 'nuccore', 'ipg', 'nucleotide', 'nucgss', 'nucest', 'structure', 'sparcle', 'genome', 'annotinfo', 'assembly', 'bioproject', 'biosample', 'blastdbinfo', 'books', 'cdd', 'clinvar', 'clone', 'gap', 'gapplus', 'grasp', 'dbvar', 'gene', 'gds', 'geoprofiles', 'homologene', 'medgen', 'mesh', 'ncbisearch', 'nlmcatalog', 'omim', 'orgtrack', 'pmc', 'popset', 'probe', 'proteinclusters', 'pcassay', 'biosystems', 'pccompound', 'pcsubstance', 'pubmedhealth', 'seqannot', 'snp', 'sra', 'taxonomy', 'biocollections', 'unigene', 'gencoll', 'gtr']}"
      ]
     },
     "execution_count": 55,
     "metadata": {},
     "output_type": "execute_result"
    }
   ],
   "source": [
    "handler = etz.einfo()\n",
    "parsed_response = etz.read(handler)\n",
    "handler.close()\n",
    "parsed_response"
   ]
  },
  {
   "cell_type": "markdown",
   "metadata": {},
   "source": [
    "### Query a database"
   ]
  },
  {
   "cell_type": "code",
   "execution_count": 56,
   "metadata": {},
   "outputs": [
    {
     "data": {
      "text/plain": [
       "{'DbInfo': {'DbName': 'nuccore', 'MenuName': 'Nucleotide', 'Description': 'Core Nucleotide db', 'DbBuild': 'Build180512-2140m.1', 'Count': '260069855', 'LastUpdate': '2018/05/14 12:21', 'FieldList': [{'Name': 'ALL', 'FullName': 'All Fields', 'Description': 'All terms from all searchable fields', 'TermCount': '4119477627', 'IsDate': 'N', 'IsNumerical': 'N', 'SingleToken': 'N', 'Hierarchy': 'N', 'IsHidden': 'N'}, {'Name': 'UID', 'FullName': 'UID', 'Description': 'Unique number assigned to each sequence', 'TermCount': '0', 'IsDate': 'N', 'IsNumerical': 'Y', 'SingleToken': 'Y', 'Hierarchy': 'N', 'IsHidden': 'Y'}, {'Name': 'FILT', 'FullName': 'Filter', 'Description': 'Limits the records', 'TermCount': '426', 'IsDate': 'N', 'IsNumerical': 'N', 'SingleToken': 'Y', 'Hierarchy': 'N', 'IsHidden': 'N'}, {'Name': 'WORD', 'FullName': 'Text Word', 'Description': 'Free text associated with record', 'TermCount': '1871287831', 'IsDate': 'N', 'IsNumerical': 'N', 'SingleToken': 'N', 'Hierarchy': 'N', 'IsHidden': 'N'}, {'Name': 'TITL', 'FullName': 'Title', 'Description': 'Words in definition line', 'TermCount': '140789434', 'IsDate': 'N', 'IsNumerical': 'N', 'SingleToken': 'N', 'Hierarchy': 'N', 'IsHidden': 'N'}, {'Name': 'KYWD', 'FullName': 'Keyword', 'Description': 'Nonstandardized terms provided by submitter', 'TermCount': '15637719', 'IsDate': 'N', 'IsNumerical': 'N', 'SingleToken': 'Y', 'Hierarchy': 'N', 'IsHidden': 'N'}, {'Name': 'AUTH', 'FullName': 'Author', 'Description': 'Author(s) of publication', 'TermCount': '2773103', 'IsDate': 'N', 'IsNumerical': 'N', 'SingleToken': 'Y', 'Hierarchy': 'N', 'IsHidden': 'N'}, {'Name': 'JOUR', 'FullName': 'Journal', 'Description': 'Journal abbreviation of publication', 'TermCount': '34918', 'IsDate': 'N', 'IsNumerical': 'N', 'SingleToken': 'Y', 'Hierarchy': 'N', 'IsHidden': 'N'}, {'Name': 'VOL', 'FullName': 'Volume', 'Description': 'Volume number of publication', 'TermCount': '3693', 'IsDate': 'N', 'IsNumerical': 'N', 'SingleToken': 'Y', 'Hierarchy': 'N', 'IsHidden': 'N'}, {'Name': 'ISS', 'FullName': 'Issue', 'Description': 'Issue number of publication', 'TermCount': '4219', 'IsDate': 'N', 'IsNumerical': 'N', 'SingleToken': 'Y', 'Hierarchy': 'N', 'IsHidden': 'N'}, {'Name': 'PAGE', 'FullName': 'Page Number', 'Description': 'Page number(s) of publication', 'TermCount': '171677', 'IsDate': 'N', 'IsNumerical': 'N', 'SingleToken': 'Y', 'Hierarchy': 'N', 'IsHidden': 'N'}, {'Name': 'ORGN', 'FullName': 'Organism', 'Description': 'Scientific and common names of organism, and all higher levels of taxonomy', 'TermCount': '4113343', 'IsDate': 'N', 'IsNumerical': 'N', 'SingleToken': 'Y', 'Hierarchy': 'Y', 'IsHidden': 'N'}, {'Name': 'ACCN', 'FullName': 'Accession', 'Description': 'Accession number of sequence', 'TermCount': '548676713', 'IsDate': 'N', 'IsNumerical': 'N', 'SingleToken': 'Y', 'Hierarchy': 'N', 'IsHidden': 'N'}, {'Name': 'PACC', 'FullName': 'Primary Accession', 'Description': 'Does not include retired secondary accessions', 'TermCount': '520140754', 'IsDate': 'N', 'IsNumerical': 'N', 'SingleToken': 'Y', 'Hierarchy': 'N', 'IsHidden': 'N'}, {'Name': 'GENE', 'FullName': 'Gene Name', 'Description': 'Name of gene associated with sequence', 'TermCount': '1718079300', 'IsDate': 'N', 'IsNumerical': 'N', 'SingleToken': 'Y', 'Hierarchy': 'N', 'IsHidden': 'N'}, {'Name': 'PROT', 'FullName': 'Protein Name', 'Description': 'Name of protein associated with sequence', 'TermCount': '5776423', 'IsDate': 'N', 'IsNumerical': 'N', 'SingleToken': 'Y', 'Hierarchy': 'N', 'IsHidden': 'N'}, {'Name': 'ECNO', 'FullName': 'EC/RN Number', 'Description': 'EC number for enzyme or CAS registry number', 'TermCount': '5254', 'IsDate': 'N', 'IsNumerical': 'N', 'SingleToken': 'Y', 'Hierarchy': 'N', 'IsHidden': 'N'}, {'Name': 'PDAT', 'FullName': 'Publication Date', 'Description': 'Date sequence added to GenBank', 'TermCount': '10742', 'IsDate': 'Y', 'IsNumerical': 'N', 'SingleToken': 'Y', 'Hierarchy': 'N', 'IsHidden': 'N'}, {'Name': 'MDAT', 'FullName': 'Modification Date', 'Description': 'Date of last update', 'TermCount': '6938', 'IsDate': 'Y', 'IsNumerical': 'N', 'SingleToken': 'Y', 'Hierarchy': 'N', 'IsHidden': 'N'}, {'Name': 'SUBS', 'FullName': 'Substance Name', 'Description': 'CAS chemical name or MEDLINE Substance Name', 'TermCount': '54499', 'IsDate': 'N', 'IsNumerical': 'N', 'SingleToken': 'Y', 'Hierarchy': 'N', 'IsHidden': 'N'}, {'Name': 'PROP', 'FullName': 'Properties', 'Description': 'Classification by source qualifiers and molecule type', 'TermCount': '16621', 'IsDate': 'N', 'IsNumerical': 'N', 'SingleToken': 'Y', 'Hierarchy': 'N', 'IsHidden': 'N'}, {'Name': 'SQID', 'FullName': 'SeqID String', 'Description': 'String identifier for sequence', 'TermCount': '131985440', 'IsDate': 'N', 'IsNumerical': 'N', 'SingleToken': 'Y', 'Hierarchy': 'N', 'IsHidden': 'N'}, {'Name': 'GPRJ', 'FullName': 'BioProject', 'Description': 'BioProject', 'TermCount': '158054', 'IsDate': 'N', 'IsNumerical': 'N', 'SingleToken': 'Y', 'Hierarchy': 'Y', 'IsHidden': 'N'}, {'Name': 'SLEN', 'FullName': 'Sequence Length', 'Description': 'Length of sequence', 'TermCount': '879182', 'IsDate': 'N', 'IsNumerical': 'Y', 'SingleToken': 'Y', 'Hierarchy': 'N', 'IsHidden': 'N'}, {'Name': 'FKEY', 'FullName': 'Feature key', 'Description': 'Feature annotated on sequence', 'TermCount': '329', 'IsDate': 'N', 'IsNumerical': 'N', 'SingleToken': 'Y', 'Hierarchy': 'N', 'IsHidden': 'N'}, {'Name': 'PORG', 'FullName': 'Primary Organism', 'Description': 'Scientific and common names of primary organism, and all higher levels of taxonomy', 'TermCount': '4112951', 'IsDate': 'N', 'IsNumerical': 'N', 'SingleToken': 'Y', 'Hierarchy': 'Y', 'IsHidden': 'N'}, {'Name': 'COMP', 'FullName': 'Component Accession', 'Description': 'Component accessions for an assembly', 'TermCount': '194094427', 'IsDate': 'N', 'IsNumerical': 'N', 'SingleToken': 'Y', 'Hierarchy': 'N', 'IsHidden': 'N'}, {'Name': 'ASSM', 'FullName': 'Assembly', 'Description': 'Assembly', 'TermCount': '115351', 'IsDate': 'N', 'IsNumerical': 'N', 'SingleToken': 'Y', 'Hierarchy': 'N', 'IsHidden': 'N'}, {'Name': 'DIV', 'FullName': 'Division', 'Description': 'Division', 'TermCount': '18', 'IsDate': 'N', 'IsNumerical': 'N', 'SingleToken': 'Y', 'Hierarchy': 'N', 'IsHidden': 'N'}, {'Name': 'STRN', 'FullName': 'Strain', 'Description': 'Strain', 'TermCount': '1491280', 'IsDate': 'N', 'IsNumerical': 'N', 'SingleToken': 'Y', 'Hierarchy': 'N', 'IsHidden': 'N'}, {'Name': 'ISOL', 'FullName': 'Isolate', 'Description': 'Isolate', 'TermCount': '3379954', 'IsDate': 'N', 'IsNumerical': 'N', 'SingleToken': 'Y', 'Hierarchy': 'N', 'IsHidden': 'N'}, {'Name': 'CULT', 'FullName': 'Cultivar', 'Description': 'Cultivar', 'TermCount': '31607', 'IsDate': 'N', 'IsNumerical': 'N', 'SingleToken': 'Y', 'Hierarchy': 'N', 'IsHidden': 'N'}, {'Name': 'BRD', 'FullName': 'Breed', 'Description': 'Breed', 'TermCount': '5066', 'IsDate': 'N', 'IsNumerical': 'N', 'SingleToken': 'Y', 'Hierarchy': 'N', 'IsHidden': 'N'}, {'Name': 'BIOS', 'FullName': 'BioSample', 'Description': 'BioSample', 'TermCount': '165947', 'IsDate': 'N', 'IsNumerical': 'N', 'SingleToken': 'Y', 'Hierarchy': 'N', 'IsHidden': 'N'}], 'LinkList': [{'Name': 'nucleotide_ccds', 'Menu': 'ccds', 'Description': 'Link to Consensus CDS', 'DbTo': 'ccds'}, {'Name': 'nucleotide_genome', 'Menu': 'Assembly to Genome', 'Description': 'Genome record containing nucleotide sequence', 'DbTo': 'genome'}]}}"
      ]
     },
     "execution_count": 56,
     "metadata": {},
     "output_type": "execute_result"
    }
   ],
   "source": [
    "handler = etz.einfo(db=\"nucleotide\")\n",
    "parsed_response = etz.read(handler)\n",
    "handler.close()\n",
    "parsed_response"
   ]
  },
  {
   "cell_type": "code",
   "execution_count": 57,
   "metadata": {},
   "outputs": [
    {
     "data": {
      "text/plain": [
       "dict_keys(['DbInfo'])"
      ]
     },
     "execution_count": 57,
     "metadata": {},
     "output_type": "execute_result"
    }
   ],
   "source": [
    "parsed_response.keys()"
   ]
  },
  {
   "cell_type": "code",
   "execution_count": 58,
   "metadata": {},
   "outputs": [
    {
     "data": {
      "text/plain": [
       "dict_keys(['DbName', 'MenuName', 'Description', 'DbBuild', 'Count', 'LastUpdate', 'FieldList', 'LinkList'])"
      ]
     },
     "execution_count": 58,
     "metadata": {},
     "output_type": "execute_result"
    }
   ],
   "source": [
    "parsed_response['DbInfo'].keys()"
   ]
  },
  {
   "cell_type": "code",
   "execution_count": 59,
   "metadata": {},
   "outputs": [
    {
     "data": {
      "text/html": [
       "<div>\n",
       "<style scoped>\n",
       "    .dataframe tbody tr th:only-of-type {\n",
       "        vertical-align: middle;\n",
       "    }\n",
       "\n",
       "    .dataframe tbody tr th {\n",
       "        vertical-align: top;\n",
       "    }\n",
       "\n",
       "    .dataframe thead th {\n",
       "        text-align: right;\n",
       "    }\n",
       "</style>\n",
       "<table border=\"1\" class=\"dataframe\">\n",
       "  <thead>\n",
       "    <tr style=\"text-align: right;\">\n",
       "      <th></th>\n",
       "      <th>Description</th>\n",
       "      <th>FullName</th>\n",
       "      <th>Hierarchy</th>\n",
       "      <th>IsDate</th>\n",
       "      <th>IsHidden</th>\n",
       "      <th>IsNumerical</th>\n",
       "      <th>Name</th>\n",
       "      <th>SingleToken</th>\n",
       "      <th>TermCount</th>\n",
       "    </tr>\n",
       "  </thead>\n",
       "  <tbody>\n",
       "    <tr>\n",
       "      <th>0</th>\n",
       "      <td>All terms from all searchable fields</td>\n",
       "      <td>All Fields</td>\n",
       "      <td>N</td>\n",
       "      <td>N</td>\n",
       "      <td>N</td>\n",
       "      <td>N</td>\n",
       "      <td>ALL</td>\n",
       "      <td>N</td>\n",
       "      <td>4119477627</td>\n",
       "    </tr>\n",
       "    <tr>\n",
       "      <th>1</th>\n",
       "      <td>Unique number assigned to each sequence</td>\n",
       "      <td>UID</td>\n",
       "      <td>N</td>\n",
       "      <td>N</td>\n",
       "      <td>Y</td>\n",
       "      <td>Y</td>\n",
       "      <td>UID</td>\n",
       "      <td>Y</td>\n",
       "      <td>0</td>\n",
       "    </tr>\n",
       "    <tr>\n",
       "      <th>2</th>\n",
       "      <td>Limits the records</td>\n",
       "      <td>Filter</td>\n",
       "      <td>N</td>\n",
       "      <td>N</td>\n",
       "      <td>N</td>\n",
       "      <td>N</td>\n",
       "      <td>FILT</td>\n",
       "      <td>Y</td>\n",
       "      <td>426</td>\n",
       "    </tr>\n",
       "    <tr>\n",
       "      <th>3</th>\n",
       "      <td>Free text associated with record</td>\n",
       "      <td>Text Word</td>\n",
       "      <td>N</td>\n",
       "      <td>N</td>\n",
       "      <td>N</td>\n",
       "      <td>N</td>\n",
       "      <td>WORD</td>\n",
       "      <td>N</td>\n",
       "      <td>1871287831</td>\n",
       "    </tr>\n",
       "    <tr>\n",
       "      <th>4</th>\n",
       "      <td>Words in definition line</td>\n",
       "      <td>Title</td>\n",
       "      <td>N</td>\n",
       "      <td>N</td>\n",
       "      <td>N</td>\n",
       "      <td>N</td>\n",
       "      <td>TITL</td>\n",
       "      <td>N</td>\n",
       "      <td>140789434</td>\n",
       "    </tr>\n",
       "    <tr>\n",
       "      <th>5</th>\n",
       "      <td>Nonstandardized terms provided by submitter</td>\n",
       "      <td>Keyword</td>\n",
       "      <td>N</td>\n",
       "      <td>N</td>\n",
       "      <td>N</td>\n",
       "      <td>N</td>\n",
       "      <td>KYWD</td>\n",
       "      <td>Y</td>\n",
       "      <td>15637719</td>\n",
       "    </tr>\n",
       "    <tr>\n",
       "      <th>6</th>\n",
       "      <td>Author(s) of publication</td>\n",
       "      <td>Author</td>\n",
       "      <td>N</td>\n",
       "      <td>N</td>\n",
       "      <td>N</td>\n",
       "      <td>N</td>\n",
       "      <td>AUTH</td>\n",
       "      <td>Y</td>\n",
       "      <td>2773103</td>\n",
       "    </tr>\n",
       "    <tr>\n",
       "      <th>7</th>\n",
       "      <td>Journal abbreviation of publication</td>\n",
       "      <td>Journal</td>\n",
       "      <td>N</td>\n",
       "      <td>N</td>\n",
       "      <td>N</td>\n",
       "      <td>N</td>\n",
       "      <td>JOUR</td>\n",
       "      <td>Y</td>\n",
       "      <td>34918</td>\n",
       "    </tr>\n",
       "    <tr>\n",
       "      <th>8</th>\n",
       "      <td>Volume number of publication</td>\n",
       "      <td>Volume</td>\n",
       "      <td>N</td>\n",
       "      <td>N</td>\n",
       "      <td>N</td>\n",
       "      <td>N</td>\n",
       "      <td>VOL</td>\n",
       "      <td>Y</td>\n",
       "      <td>3693</td>\n",
       "    </tr>\n",
       "    <tr>\n",
       "      <th>9</th>\n",
       "      <td>Issue number of publication</td>\n",
       "      <td>Issue</td>\n",
       "      <td>N</td>\n",
       "      <td>N</td>\n",
       "      <td>N</td>\n",
       "      <td>N</td>\n",
       "      <td>ISS</td>\n",
       "      <td>Y</td>\n",
       "      <td>4219</td>\n",
       "    </tr>\n",
       "    <tr>\n",
       "      <th>10</th>\n",
       "      <td>Page number(s) of publication</td>\n",
       "      <td>Page Number</td>\n",
       "      <td>N</td>\n",
       "      <td>N</td>\n",
       "      <td>N</td>\n",
       "      <td>N</td>\n",
       "      <td>PAGE</td>\n",
       "      <td>Y</td>\n",
       "      <td>171677</td>\n",
       "    </tr>\n",
       "    <tr>\n",
       "      <th>11</th>\n",
       "      <td>Scientific and common names of organism, and a...</td>\n",
       "      <td>Organism</td>\n",
       "      <td>Y</td>\n",
       "      <td>N</td>\n",
       "      <td>N</td>\n",
       "      <td>N</td>\n",
       "      <td>ORGN</td>\n",
       "      <td>Y</td>\n",
       "      <td>4113343</td>\n",
       "    </tr>\n",
       "    <tr>\n",
       "      <th>12</th>\n",
       "      <td>Accession number of sequence</td>\n",
       "      <td>Accession</td>\n",
       "      <td>N</td>\n",
       "      <td>N</td>\n",
       "      <td>N</td>\n",
       "      <td>N</td>\n",
       "      <td>ACCN</td>\n",
       "      <td>Y</td>\n",
       "      <td>548676713</td>\n",
       "    </tr>\n",
       "    <tr>\n",
       "      <th>13</th>\n",
       "      <td>Does not include retired secondary accessions</td>\n",
       "      <td>Primary Accession</td>\n",
       "      <td>N</td>\n",
       "      <td>N</td>\n",
       "      <td>N</td>\n",
       "      <td>N</td>\n",
       "      <td>PACC</td>\n",
       "      <td>Y</td>\n",
       "      <td>520140754</td>\n",
       "    </tr>\n",
       "    <tr>\n",
       "      <th>14</th>\n",
       "      <td>Name of gene associated with sequence</td>\n",
       "      <td>Gene Name</td>\n",
       "      <td>N</td>\n",
       "      <td>N</td>\n",
       "      <td>N</td>\n",
       "      <td>N</td>\n",
       "      <td>GENE</td>\n",
       "      <td>Y</td>\n",
       "      <td>1718079300</td>\n",
       "    </tr>\n",
       "    <tr>\n",
       "      <th>15</th>\n",
       "      <td>Name of protein associated with sequence</td>\n",
       "      <td>Protein Name</td>\n",
       "      <td>N</td>\n",
       "      <td>N</td>\n",
       "      <td>N</td>\n",
       "      <td>N</td>\n",
       "      <td>PROT</td>\n",
       "      <td>Y</td>\n",
       "      <td>5776423</td>\n",
       "    </tr>\n",
       "    <tr>\n",
       "      <th>16</th>\n",
       "      <td>EC number for enzyme or CAS registry number</td>\n",
       "      <td>EC/RN Number</td>\n",
       "      <td>N</td>\n",
       "      <td>N</td>\n",
       "      <td>N</td>\n",
       "      <td>N</td>\n",
       "      <td>ECNO</td>\n",
       "      <td>Y</td>\n",
       "      <td>5254</td>\n",
       "    </tr>\n",
       "    <tr>\n",
       "      <th>17</th>\n",
       "      <td>Date sequence added to GenBank</td>\n",
       "      <td>Publication Date</td>\n",
       "      <td>N</td>\n",
       "      <td>Y</td>\n",
       "      <td>N</td>\n",
       "      <td>N</td>\n",
       "      <td>PDAT</td>\n",
       "      <td>Y</td>\n",
       "      <td>10742</td>\n",
       "    </tr>\n",
       "    <tr>\n",
       "      <th>18</th>\n",
       "      <td>Date of last update</td>\n",
       "      <td>Modification Date</td>\n",
       "      <td>N</td>\n",
       "      <td>Y</td>\n",
       "      <td>N</td>\n",
       "      <td>N</td>\n",
       "      <td>MDAT</td>\n",
       "      <td>Y</td>\n",
       "      <td>6938</td>\n",
       "    </tr>\n",
       "    <tr>\n",
       "      <th>19</th>\n",
       "      <td>CAS chemical name or MEDLINE Substance Name</td>\n",
       "      <td>Substance Name</td>\n",
       "      <td>N</td>\n",
       "      <td>N</td>\n",
       "      <td>N</td>\n",
       "      <td>N</td>\n",
       "      <td>SUBS</td>\n",
       "      <td>Y</td>\n",
       "      <td>54499</td>\n",
       "    </tr>\n",
       "    <tr>\n",
       "      <th>20</th>\n",
       "      <td>Classification by source qualifiers and molecu...</td>\n",
       "      <td>Properties</td>\n",
       "      <td>N</td>\n",
       "      <td>N</td>\n",
       "      <td>N</td>\n",
       "      <td>N</td>\n",
       "      <td>PROP</td>\n",
       "      <td>Y</td>\n",
       "      <td>16621</td>\n",
       "    </tr>\n",
       "    <tr>\n",
       "      <th>21</th>\n",
       "      <td>String identifier for sequence</td>\n",
       "      <td>SeqID String</td>\n",
       "      <td>N</td>\n",
       "      <td>N</td>\n",
       "      <td>N</td>\n",
       "      <td>N</td>\n",
       "      <td>SQID</td>\n",
       "      <td>Y</td>\n",
       "      <td>131985440</td>\n",
       "    </tr>\n",
       "    <tr>\n",
       "      <th>22</th>\n",
       "      <td>BioProject</td>\n",
       "      <td>BioProject</td>\n",
       "      <td>Y</td>\n",
       "      <td>N</td>\n",
       "      <td>N</td>\n",
       "      <td>N</td>\n",
       "      <td>GPRJ</td>\n",
       "      <td>Y</td>\n",
       "      <td>158054</td>\n",
       "    </tr>\n",
       "    <tr>\n",
       "      <th>23</th>\n",
       "      <td>Length of sequence</td>\n",
       "      <td>Sequence Length</td>\n",
       "      <td>N</td>\n",
       "      <td>N</td>\n",
       "      <td>N</td>\n",
       "      <td>Y</td>\n",
       "      <td>SLEN</td>\n",
       "      <td>Y</td>\n",
       "      <td>879182</td>\n",
       "    </tr>\n",
       "    <tr>\n",
       "      <th>24</th>\n",
       "      <td>Feature annotated on sequence</td>\n",
       "      <td>Feature key</td>\n",
       "      <td>N</td>\n",
       "      <td>N</td>\n",
       "      <td>N</td>\n",
       "      <td>N</td>\n",
       "      <td>FKEY</td>\n",
       "      <td>Y</td>\n",
       "      <td>329</td>\n",
       "    </tr>\n",
       "    <tr>\n",
       "      <th>25</th>\n",
       "      <td>Scientific and common names of primary organis...</td>\n",
       "      <td>Primary Organism</td>\n",
       "      <td>Y</td>\n",
       "      <td>N</td>\n",
       "      <td>N</td>\n",
       "      <td>N</td>\n",
       "      <td>PORG</td>\n",
       "      <td>Y</td>\n",
       "      <td>4112951</td>\n",
       "    </tr>\n",
       "    <tr>\n",
       "      <th>26</th>\n",
       "      <td>Component accessions for an assembly</td>\n",
       "      <td>Component Accession</td>\n",
       "      <td>N</td>\n",
       "      <td>N</td>\n",
       "      <td>N</td>\n",
       "      <td>N</td>\n",
       "      <td>COMP</td>\n",
       "      <td>Y</td>\n",
       "      <td>194094427</td>\n",
       "    </tr>\n",
       "    <tr>\n",
       "      <th>27</th>\n",
       "      <td>Assembly</td>\n",
       "      <td>Assembly</td>\n",
       "      <td>N</td>\n",
       "      <td>N</td>\n",
       "      <td>N</td>\n",
       "      <td>N</td>\n",
       "      <td>ASSM</td>\n",
       "      <td>Y</td>\n",
       "      <td>115351</td>\n",
       "    </tr>\n",
       "    <tr>\n",
       "      <th>28</th>\n",
       "      <td>Division</td>\n",
       "      <td>Division</td>\n",
       "      <td>N</td>\n",
       "      <td>N</td>\n",
       "      <td>N</td>\n",
       "      <td>N</td>\n",
       "      <td>DIV</td>\n",
       "      <td>Y</td>\n",
       "      <td>18</td>\n",
       "    </tr>\n",
       "    <tr>\n",
       "      <th>29</th>\n",
       "      <td>Strain</td>\n",
       "      <td>Strain</td>\n",
       "      <td>N</td>\n",
       "      <td>N</td>\n",
       "      <td>N</td>\n",
       "      <td>N</td>\n",
       "      <td>STRN</td>\n",
       "      <td>Y</td>\n",
       "      <td>1491280</td>\n",
       "    </tr>\n",
       "    <tr>\n",
       "      <th>30</th>\n",
       "      <td>Isolate</td>\n",
       "      <td>Isolate</td>\n",
       "      <td>N</td>\n",
       "      <td>N</td>\n",
       "      <td>N</td>\n",
       "      <td>N</td>\n",
       "      <td>ISOL</td>\n",
       "      <td>Y</td>\n",
       "      <td>3379954</td>\n",
       "    </tr>\n",
       "    <tr>\n",
       "      <th>31</th>\n",
       "      <td>Cultivar</td>\n",
       "      <td>Cultivar</td>\n",
       "      <td>N</td>\n",
       "      <td>N</td>\n",
       "      <td>N</td>\n",
       "      <td>N</td>\n",
       "      <td>CULT</td>\n",
       "      <td>Y</td>\n",
       "      <td>31607</td>\n",
       "    </tr>\n",
       "    <tr>\n",
       "      <th>32</th>\n",
       "      <td>Breed</td>\n",
       "      <td>Breed</td>\n",
       "      <td>N</td>\n",
       "      <td>N</td>\n",
       "      <td>N</td>\n",
       "      <td>N</td>\n",
       "      <td>BRD</td>\n",
       "      <td>Y</td>\n",
       "      <td>5066</td>\n",
       "    </tr>\n",
       "    <tr>\n",
       "      <th>33</th>\n",
       "      <td>BioSample</td>\n",
       "      <td>BioSample</td>\n",
       "      <td>N</td>\n",
       "      <td>N</td>\n",
       "      <td>N</td>\n",
       "      <td>N</td>\n",
       "      <td>BIOS</td>\n",
       "      <td>Y</td>\n",
       "      <td>165947</td>\n",
       "    </tr>\n",
       "  </tbody>\n",
       "</table>\n",
       "</div>"
      ],
      "text/plain": [
       "                                          Description             FullName  \\\n",
       "0                All terms from all searchable fields           All Fields   \n",
       "1             Unique number assigned to each sequence                  UID   \n",
       "2                                  Limits the records               Filter   \n",
       "3                    Free text associated with record            Text Word   \n",
       "4                            Words in definition line                Title   \n",
       "5         Nonstandardized terms provided by submitter              Keyword   \n",
       "6                            Author(s) of publication               Author   \n",
       "7                 Journal abbreviation of publication              Journal   \n",
       "8                        Volume number of publication               Volume   \n",
       "9                         Issue number of publication                Issue   \n",
       "10                      Page number(s) of publication          Page Number   \n",
       "11  Scientific and common names of organism, and a...             Organism   \n",
       "12                       Accession number of sequence            Accession   \n",
       "13      Does not include retired secondary accessions    Primary Accession   \n",
       "14              Name of gene associated with sequence            Gene Name   \n",
       "15           Name of protein associated with sequence         Protein Name   \n",
       "16        EC number for enzyme or CAS registry number         EC/RN Number   \n",
       "17                     Date sequence added to GenBank     Publication Date   \n",
       "18                                Date of last update    Modification Date   \n",
       "19        CAS chemical name or MEDLINE Substance Name       Substance Name   \n",
       "20  Classification by source qualifiers and molecu...           Properties   \n",
       "21                     String identifier for sequence         SeqID String   \n",
       "22                                         BioProject           BioProject   \n",
       "23                                 Length of sequence      Sequence Length   \n",
       "24                      Feature annotated on sequence          Feature key   \n",
       "25  Scientific and common names of primary organis...     Primary Organism   \n",
       "26               Component accessions for an assembly  Component Accession   \n",
       "27                                           Assembly             Assembly   \n",
       "28                                           Division             Division   \n",
       "29                                             Strain               Strain   \n",
       "30                                            Isolate              Isolate   \n",
       "31                                           Cultivar             Cultivar   \n",
       "32                                              Breed                Breed   \n",
       "33                                          BioSample            BioSample   \n",
       "\n",
       "   Hierarchy IsDate IsHidden IsNumerical  Name SingleToken   TermCount  \n",
       "0          N      N        N           N   ALL           N  4119477627  \n",
       "1          N      N        Y           Y   UID           Y           0  \n",
       "2          N      N        N           N  FILT           Y         426  \n",
       "3          N      N        N           N  WORD           N  1871287831  \n",
       "4          N      N        N           N  TITL           N   140789434  \n",
       "5          N      N        N           N  KYWD           Y    15637719  \n",
       "6          N      N        N           N  AUTH           Y     2773103  \n",
       "7          N      N        N           N  JOUR           Y       34918  \n",
       "8          N      N        N           N   VOL           Y        3693  \n",
       "9          N      N        N           N   ISS           Y        4219  \n",
       "10         N      N        N           N  PAGE           Y      171677  \n",
       "11         Y      N        N           N  ORGN           Y     4113343  \n",
       "12         N      N        N           N  ACCN           Y   548676713  \n",
       "13         N      N        N           N  PACC           Y   520140754  \n",
       "14         N      N        N           N  GENE           Y  1718079300  \n",
       "15         N      N        N           N  PROT           Y     5776423  \n",
       "16         N      N        N           N  ECNO           Y        5254  \n",
       "17         N      Y        N           N  PDAT           Y       10742  \n",
       "18         N      Y        N           N  MDAT           Y        6938  \n",
       "19         N      N        N           N  SUBS           Y       54499  \n",
       "20         N      N        N           N  PROP           Y       16621  \n",
       "21         N      N        N           N  SQID           Y   131985440  \n",
       "22         Y      N        N           N  GPRJ           Y      158054  \n",
       "23         N      N        N           Y  SLEN           Y      879182  \n",
       "24         N      N        N           N  FKEY           Y         329  \n",
       "25         Y      N        N           N  PORG           Y     4112951  \n",
       "26         N      N        N           N  COMP           Y   194094427  \n",
       "27         N      N        N           N  ASSM           Y      115351  \n",
       "28         N      N        N           N   DIV           Y          18  \n",
       "29         N      N        N           N  STRN           Y     1491280  \n",
       "30         N      N        N           N  ISOL           Y     3379954  \n",
       "31         N      N        N           N  CULT           Y       31607  \n",
       "32         N      N        N           N   BRD           Y        5066  \n",
       "33         N      N        N           N  BIOS           Y      165947  "
      ]
     },
     "execution_count": 59,
     "metadata": {},
     "output_type": "execute_result"
    }
   ],
   "source": [
    "pd.DataFrame(parsed_response['DbInfo']['FieldList'])"
   ]
  },
  {
   "cell_type": "code",
   "execution_count": 60,
   "metadata": {},
   "outputs": [
    {
     "data": {
      "text/html": [
       "<div>\n",
       "<style scoped>\n",
       "    .dataframe tbody tr th:only-of-type {\n",
       "        vertical-align: middle;\n",
       "    }\n",
       "\n",
       "    .dataframe tbody tr th {\n",
       "        vertical-align: top;\n",
       "    }\n",
       "\n",
       "    .dataframe thead th {\n",
       "        text-align: right;\n",
       "    }\n",
       "</style>\n",
       "<table border=\"1\" class=\"dataframe\">\n",
       "  <thead>\n",
       "    <tr style=\"text-align: right;\">\n",
       "      <th></th>\n",
       "      <th>DbTo</th>\n",
       "      <th>Description</th>\n",
       "      <th>Menu</th>\n",
       "      <th>Name</th>\n",
       "    </tr>\n",
       "  </thead>\n",
       "  <tbody>\n",
       "    <tr>\n",
       "      <th>0</th>\n",
       "      <td>ccds</td>\n",
       "      <td>Link to Consensus CDS</td>\n",
       "      <td>ccds</td>\n",
       "      <td>nucleotide_ccds</td>\n",
       "    </tr>\n",
       "    <tr>\n",
       "      <th>1</th>\n",
       "      <td>genome</td>\n",
       "      <td>Genome record containing nucleotide sequence</td>\n",
       "      <td>Assembly to Genome</td>\n",
       "      <td>nucleotide_genome</td>\n",
       "    </tr>\n",
       "  </tbody>\n",
       "</table>\n",
       "</div>"
      ],
      "text/plain": [
       "     DbTo                                   Description                Menu  \\\n",
       "0    ccds                         Link to Consensus CDS                ccds   \n",
       "1  genome  Genome record containing nucleotide sequence  Assembly to Genome   \n",
       "\n",
       "                Name  \n",
       "0    nucleotide_ccds  \n",
       "1  nucleotide_genome  "
      ]
     },
     "execution_count": 60,
     "metadata": {},
     "output_type": "execute_result"
    }
   ],
   "source": [
    "pd.DataFrame(parsed_response['DbInfo']['LinkList'])"
   ]
  },
  {
   "cell_type": "markdown",
   "metadata": {},
   "source": [
    "## Queries"
   ]
  },
  {
   "cell_type": "markdown",
   "metadata": {},
   "source": [
    "#### Get all fungal ITS sequences"
   ]
  },
  {
   "cell_type": "code",
   "execution_count": 61,
   "metadata": {},
   "outputs": [
    {
     "data": {
      "text/plain": [
       "{'Count': '1075149', 'RetMax': '20', 'RetStart': '0', 'IdList': ['1388874334', '1388874333', '1388874332', '1388874331', '1388874330', '1388874329', '1388874328', '1388874327', '1386813114', '1386812756', '1386811116', '1386808931', '1386808869', '1386808066', '1386807225', '1386806404', '1386806368', '1386806366', '1278989629', '1268013305'], 'TranslationSet': [], 'TranslationStack': [{'Term': 'txid4751[Organism:exp]', 'Field': 'Organism', 'Count': '7241877', 'Explode': 'Y'}, {'Term': '\"Internal Transcribed Spacer\"[All Fields]', 'Field': 'All Fields', 'Count': '1647071', 'Explode': 'N'}, 'AND'], 'QueryTranslation': 'txid4751[Organism:exp] AND \"Internal Transcribed Spacer\"[All Fields]'}"
      ]
     },
     "execution_count": 61,
     "metadata": {},
     "output_type": "execute_result"
    }
   ],
   "source": [
    "query = \"txid4751[Organism:exp] AND \\\"Internal Transcribed Spacer\\\"[All Fields]\"\n",
    "#query = \"\\\"Internal Transcribed Spacer\\\"[All Fields]\"\n",
    "handler = etz.esearch(db='nucleotide', term=query)\n",
    "parsed_response = etz.read(handler)\n",
    "parsed_response"
   ]
  },
  {
   "cell_type": "code",
   "execution_count": 62,
   "metadata": {},
   "outputs": [
    {
     "data": {
      "text/plain": [
       "dict_keys(['Count', 'RetMax', 'RetStart', 'IdList', 'TranslationSet', 'TranslationStack', 'QueryTranslation'])"
      ]
     },
     "execution_count": 62,
     "metadata": {},
     "output_type": "execute_result"
    }
   ],
   "source": [
    "parsed_response.keys()"
   ]
  },
  {
   "cell_type": "code",
   "execution_count": 63,
   "metadata": {},
   "outputs": [
    {
     "data": {
      "text/html": [
       "<div>\n",
       "<style scoped>\n",
       "    .dataframe tbody tr th:only-of-type {\n",
       "        vertical-align: middle;\n",
       "    }\n",
       "\n",
       "    .dataframe tbody tr th {\n",
       "        vertical-align: top;\n",
       "    }\n",
       "\n",
       "    .dataframe thead th {\n",
       "        text-align: right;\n",
       "    }\n",
       "</style>\n",
       "<table border=\"1\" class=\"dataframe\">\n",
       "  <thead>\n",
       "    <tr style=\"text-align: right;\">\n",
       "      <th></th>\n",
       "      <th>Count</th>\n",
       "      <th>Explode</th>\n",
       "      <th>Field</th>\n",
       "      <th>Term</th>\n",
       "    </tr>\n",
       "  </thead>\n",
       "  <tbody>\n",
       "    <tr>\n",
       "      <th>0</th>\n",
       "      <td>7241877</td>\n",
       "      <td>Y</td>\n",
       "      <td>Organism</td>\n",
       "      <td>txid4751[Organism:exp]</td>\n",
       "    </tr>\n",
       "    <tr>\n",
       "      <th>1</th>\n",
       "      <td>1647071</td>\n",
       "      <td>N</td>\n",
       "      <td>All Fields</td>\n",
       "      <td>\"Internal Transcribed Spacer\"[All Fields]</td>\n",
       "    </tr>\n",
       "  </tbody>\n",
       "</table>\n",
       "</div>"
      ],
      "text/plain": [
       "     Count Explode       Field                                       Term\n",
       "0  7241877       Y    Organism                     txid4751[Organism:exp]\n",
       "1  1647071       N  All Fields  \"Internal Transcribed Spacer\"[All Fields]"
      ]
     },
     "execution_count": 63,
     "metadata": {},
     "output_type": "execute_result"
    }
   ],
   "source": [
    "val = parsed_response['TranslationStack']\n",
    "del val[-1]\n",
    "pd.DataFrame(val)"
   ]
  },
  {
   "cell_type": "code",
   "execution_count": 64,
   "metadata": {},
   "outputs": [
    {
     "data": {
      "text/plain": [
       "'txid4751[Organism:exp] AND \"Internal Transcribed Spacer\"[All Fields]'"
      ]
     },
     "execution_count": 64,
     "metadata": {},
     "output_type": "execute_result"
    }
   ],
   "source": [
    "parsed_response['QueryTranslation']"
   ]
  },
  {
   "cell_type": "code",
   "execution_count": 65,
   "metadata": {},
   "outputs": [
    {
     "data": {
      "text/html": [
       "<div>\n",
       "<style scoped>\n",
       "    .dataframe tbody tr th:only-of-type {\n",
       "        vertical-align: middle;\n",
       "    }\n",
       "\n",
       "    .dataframe tbody tr th {\n",
       "        vertical-align: top;\n",
       "    }\n",
       "\n",
       "    .dataframe thead th {\n",
       "        text-align: right;\n",
       "    }\n",
       "</style>\n",
       "<table border=\"1\" class=\"dataframe\">\n",
       "  <thead>\n",
       "    <tr style=\"text-align: right;\">\n",
       "      <th></th>\n",
       "      <th>Count</th>\n",
       "      <th>Explode</th>\n",
       "      <th>Field</th>\n",
       "      <th>Term</th>\n",
       "    </tr>\n",
       "  </thead>\n",
       "  <tbody>\n",
       "    <tr>\n",
       "      <th>0</th>\n",
       "      <td>7241877</td>\n",
       "      <td>Y</td>\n",
       "      <td>Organism</td>\n",
       "      <td>txid4751[Organism:exp]</td>\n",
       "    </tr>\n",
       "    <tr>\n",
       "      <th>1</th>\n",
       "      <td>1647071</td>\n",
       "      <td>N</td>\n",
       "      <td>All Fields</td>\n",
       "      <td>\"Internal Transcribed Spacer\"[All Fields]</td>\n",
       "    </tr>\n",
       "  </tbody>\n",
       "</table>\n",
       "</div>"
      ],
      "text/plain": [
       "     Count Explode       Field                                       Term\n",
       "0  7241877       Y    Organism                     txid4751[Organism:exp]\n",
       "1  1647071       N  All Fields  \"Internal Transcribed Spacer\"[All Fields]"
      ]
     },
     "execution_count": 65,
     "metadata": {},
     "output_type": "execute_result"
    }
   ],
   "source": [
    "pd.DataFrame(parsed_response['TranslationStack'])"
   ]
  },
  {
   "cell_type": "markdown",
   "metadata": {},
   "source": [
    "#### Now get the data"
   ]
  },
  {
   "cell_type": "code",
   "execution_count": 70,
   "metadata": {},
   "outputs": [
    {
     "data": {
      "text/plain": [
       "<_io.TextIOWrapper encoding='latin-1'>"
      ]
     },
     "execution_count": 70,
     "metadata": {},
     "output_type": "execute_result"
    }
   ],
   "source": [
    "handle = etz.efetch(db='nucleotide', id=\"1388874334\", format='fasta')\n",
    "\n",
    "#record = SeqIO.read(handle, \"fasta\")\n",
    "#handle.close()\n",
    "#record"
   ]
  },
  {
   "cell_type": "markdown",
   "metadata": {},
   "source": [
    "#### Get all CO1"
   ]
  },
  {
   "cell_type": "code",
   "execution_count": 19,
   "metadata": {},
   "outputs": [
    {
     "data": {
      "text/plain": [
       "{'Count': '2849202', 'RetMax': '20', 'RetStart': '0', 'IdList': ['1388875724', '1388875722', '1388875720', '1388875718', '1388875716', '1388875714', '1388875712', '1388875710', '1388875708', '1388875706', '1388875704', '1388875702', '1388875700', '1388875698', '1388875696', '1388875694', '1388875692', '1388875690', '1388875688', '1388875686'], 'TranslationSet': [], 'TranslationStack': [{'Term': 'COI[All Fields]', 'Field': 'All Fields', 'Count': '2543439', 'Explode': 'N'}, {'Term': 'CO1[All Fields]', 'Field': 'All Fields', 'Count': '54254', 'Explode': 'N'}, 'OR', {'Term': 'COX1[All Fields]', 'Field': 'All Fields', 'Count': '1585496', 'Explode': 'N'}, 'OR'], 'QueryTranslation': 'COI[All Fields] OR CO1[All Fields] OR COX1[All Fields]'}"
      ]
     },
     "execution_count": 19,
     "metadata": {},
     "output_type": "execute_result"
    }
   ],
   "source": [
    "query = \"COI OR CO1 OR COX1\"\n",
    "handler = etz.esearch(db='nucleotide', term=query)\n",
    "parsed_response = etz.read(handler)\n",
    "handler.close()\n",
    "parsed_response"
   ]
  },
  {
   "cell_type": "markdown",
   "metadata": {},
   "source": [
    "#### Complete blast database\n",
    "ncbi_nr_nt?"
   ]
  },
  {
   "cell_type": "code",
   "execution_count": 72,
   "metadata": {},
   "outputs": [
    {
     "data": {
      "text/plain": [
       "{'DbInfo': {'DbName': 'blastdbinfo', 'MenuName': 'BlastdbInfo', 'Description': 'BlastdbInfo Database', 'DbBuild': 'Build180514-1442.1', 'Count': '3869192', 'LastUpdate': '2018/05/14 15:45', 'FieldList': [{'Name': 'ALL', 'FullName': 'All Fields', 'Description': 'All terms from all searchable fields', 'TermCount': '6600339', 'IsDate': 'N', 'IsNumerical': 'N', 'SingleToken': 'N', 'Hierarchy': 'N', 'IsHidden': 'N'}, {'Name': 'UID', 'FullName': 'UID', 'Description': 'Unique number assigned to publication', 'TermCount': '0', 'IsDate': 'N', 'IsNumerical': 'Y', 'SingleToken': 'Y', 'Hierarchy': 'N', 'IsHidden': 'Y'}, {'Name': 'FILT', 'FullName': 'Filter', 'Description': 'Limits the records', 'TermCount': '8', 'IsDate': 'N', 'IsNumerical': 'N', 'SingleToken': 'Y', 'Hierarchy': 'N', 'IsHidden': 'N'}, {'Name': 'DB', 'FullName': 'Database Name', 'Description': 'Official name of the database', 'TermCount': '229004', 'IsDate': 'N', 'IsNumerical': 'N', 'SingleToken': 'Y', 'Hierarchy': 'N', 'IsHidden': 'N'}, {'Name': 'TITL', 'FullName': 'Database Title', 'Description': 'Words in the title of database (e.g., \"NCBI Transcript Reference Sequences\")', 'TermCount': '4418573', 'IsDate': 'N', 'IsNumerical': 'N', 'SingleToken': 'Y', 'Hierarchy': 'N', 'IsHidden': 'N'}, {'Name': 'DATE', 'FullName': 'Last Update', 'Description': 'Date of last database update', 'TermCount': '3321', 'IsDate': 'Y', 'IsNumerical': 'N', 'SingleToken': 'Y', 'Hierarchy': 'N', 'IsHidden': 'N'}, {'Name': 'ORGN', 'FullName': 'Database Organism Taxid', 'Description': 'Organism Taxid', 'TermCount': '1862391', 'IsDate': 'N', 'IsNumerical': 'N', 'SingleToken': 'Y', 'Hierarchy': 'N', 'IsHidden': 'N'}, {'Name': 'ASM', 'FullName': 'Genome Collection Assembly Name', 'Description': 'Genome Collection Assembly Name', 'TermCount': '12921', 'IsDate': 'N', 'IsNumerical': 'N', 'SingleToken': 'Y', 'Hierarchy': 'N', 'IsHidden': 'N'}, {'Name': 'SEQT', 'FullName': 'Blast Sequence Type', 'Description': 'One of genomic, cdna, other-dna, or protein, of which genomic and cdna could be further specified', 'TermCount': '4', 'IsDate': 'N', 'IsNumerical': 'N', 'SingleToken': 'Y', 'Hierarchy': 'N', 'IsHidden': 'N'}, {'Name': 'SEQS', 'FullName': 'Blast Sequence Strategy', 'Description': 'Appropriate sequence strategy for the sequence type specified', 'TermCount': '5', 'IsDate': 'N', 'IsNumerical': 'N', 'SingleToken': 'Y', 'Hierarchy': 'N', 'IsHidden': 'N'}, {'Name': 'SRC', 'FullName': 'Blast Database Source', 'Description': 'States where the sequences came from, e.g., genbank, refseq, trace, etc.', 'TermCount': '8', 'IsDate': 'N', 'IsNumerical': 'N', 'SingleToken': 'Y', 'Hierarchy': 'N', 'IsHidden': 'N'}, {'Name': 'KEYW', 'FullName': 'Keyword', 'Description': 'Search term identifying this database entry', 'TermCount': '17357', 'IsDate': 'N', 'IsNumerical': 'N', 'SingleToken': 'Y', 'Hierarchy': 'N', 'IsHidden': 'N'}, {'Name': 'PRJ', 'FullName': 'NCBI Genome Project ID', 'Description': 'NCBI Genome Project Identifier', 'TermCount': '51887', 'IsDate': 'N', 'IsNumerical': 'N', 'SingleToken': 'Y', 'Hierarchy': 'N', 'IsHidden': 'N'}, {'Name': 'GPB', 'FullName': 'Gpipe Build Name', 'Description': 'Gpipe Build', 'TermCount': '33', 'IsDate': 'N', 'IsNumerical': 'N', 'SingleToken': 'Y', 'Hierarchy': 'N', 'IsHidden': 'N'}, {'Name': 'WGPR', 'FullName': 'NCBI WGS Project ID', 'Description': 'NCBI WGS Project Identifier', 'TermCount': '147479', 'IsDate': 'N', 'IsNumerical': 'N', 'SingleToken': 'Y', 'Hierarchy': 'N', 'IsHidden': 'N'}], 'LinkList': [{'Name': 'blastdbinfo_bioproject', 'Menu': 'BioProject Links', 'Description': 'Link from BlastInfo to BioProject', 'DbTo': 'bioproject'}, {'Name': 'blastdbinfo_pubmed', 'Menu': 'Pubmed Links', 'Description': 'Link from BlastInfo to Pubmed', 'DbTo': 'pubmed'}, {'Name': 'blastdbinfo_taxonomy', 'Menu': 'Taxonomy Links', 'Description': 'Link from BlastInfo to Taxonomy', 'DbTo': 'taxonomy'}]}}"
      ]
     },
     "execution_count": 72,
     "metadata": {},
     "output_type": "execute_result"
    }
   ],
   "source": [
    "handler = etz.einfo(db=\"blastdbinfo\")\n",
    "parsed_response = etz.read(handler)\n",
    "handler.close()\n",
    "parsed_response"
   ]
  },
  {
   "cell_type": "code",
   "execution_count": 73,
   "metadata": {},
   "outputs": [
    {
     "data": {
      "text/plain": [
       "dict_keys(['DbName', 'MenuName', 'Description', 'DbBuild', 'Count', 'LastUpdate', 'FieldList', 'LinkList'])"
      ]
     },
     "execution_count": 73,
     "metadata": {},
     "output_type": "execute_result"
    }
   ],
   "source": [
    "parsed_response['DbInfo'].keys()"
   ]
  },
  {
   "cell_type": "code",
   "execution_count": 74,
   "metadata": {},
   "outputs": [
    {
     "data": {
      "text/html": [
       "<div>\n",
       "<style scoped>\n",
       "    .dataframe tbody tr th:only-of-type {\n",
       "        vertical-align: middle;\n",
       "    }\n",
       "\n",
       "    .dataframe tbody tr th {\n",
       "        vertical-align: top;\n",
       "    }\n",
       "\n",
       "    .dataframe thead th {\n",
       "        text-align: right;\n",
       "    }\n",
       "</style>\n",
       "<table border=\"1\" class=\"dataframe\">\n",
       "  <thead>\n",
       "    <tr style=\"text-align: right;\">\n",
       "      <th></th>\n",
       "      <th>Description</th>\n",
       "      <th>FullName</th>\n",
       "      <th>Hierarchy</th>\n",
       "      <th>IsDate</th>\n",
       "      <th>IsHidden</th>\n",
       "      <th>IsNumerical</th>\n",
       "      <th>Name</th>\n",
       "      <th>SingleToken</th>\n",
       "      <th>TermCount</th>\n",
       "    </tr>\n",
       "  </thead>\n",
       "  <tbody>\n",
       "    <tr>\n",
       "      <th>0</th>\n",
       "      <td>All terms from all searchable fields</td>\n",
       "      <td>All Fields</td>\n",
       "      <td>N</td>\n",
       "      <td>N</td>\n",
       "      <td>N</td>\n",
       "      <td>N</td>\n",
       "      <td>ALL</td>\n",
       "      <td>N</td>\n",
       "      <td>6600339</td>\n",
       "    </tr>\n",
       "    <tr>\n",
       "      <th>1</th>\n",
       "      <td>Unique number assigned to publication</td>\n",
       "      <td>UID</td>\n",
       "      <td>N</td>\n",
       "      <td>N</td>\n",
       "      <td>Y</td>\n",
       "      <td>Y</td>\n",
       "      <td>UID</td>\n",
       "      <td>Y</td>\n",
       "      <td>0</td>\n",
       "    </tr>\n",
       "    <tr>\n",
       "      <th>2</th>\n",
       "      <td>Limits the records</td>\n",
       "      <td>Filter</td>\n",
       "      <td>N</td>\n",
       "      <td>N</td>\n",
       "      <td>N</td>\n",
       "      <td>N</td>\n",
       "      <td>FILT</td>\n",
       "      <td>Y</td>\n",
       "      <td>8</td>\n",
       "    </tr>\n",
       "    <tr>\n",
       "      <th>3</th>\n",
       "      <td>Official name of the database</td>\n",
       "      <td>Database Name</td>\n",
       "      <td>N</td>\n",
       "      <td>N</td>\n",
       "      <td>N</td>\n",
       "      <td>N</td>\n",
       "      <td>DB</td>\n",
       "      <td>Y</td>\n",
       "      <td>229004</td>\n",
       "    </tr>\n",
       "    <tr>\n",
       "      <th>4</th>\n",
       "      <td>Words in the title of database (e.g., \"NCBI Tr...</td>\n",
       "      <td>Database Title</td>\n",
       "      <td>N</td>\n",
       "      <td>N</td>\n",
       "      <td>N</td>\n",
       "      <td>N</td>\n",
       "      <td>TITL</td>\n",
       "      <td>Y</td>\n",
       "      <td>4418573</td>\n",
       "    </tr>\n",
       "    <tr>\n",
       "      <th>5</th>\n",
       "      <td>Date of last database update</td>\n",
       "      <td>Last Update</td>\n",
       "      <td>N</td>\n",
       "      <td>Y</td>\n",
       "      <td>N</td>\n",
       "      <td>N</td>\n",
       "      <td>DATE</td>\n",
       "      <td>Y</td>\n",
       "      <td>3321</td>\n",
       "    </tr>\n",
       "    <tr>\n",
       "      <th>6</th>\n",
       "      <td>Organism Taxid</td>\n",
       "      <td>Database Organism Taxid</td>\n",
       "      <td>N</td>\n",
       "      <td>N</td>\n",
       "      <td>N</td>\n",
       "      <td>N</td>\n",
       "      <td>ORGN</td>\n",
       "      <td>Y</td>\n",
       "      <td>1862391</td>\n",
       "    </tr>\n",
       "    <tr>\n",
       "      <th>7</th>\n",
       "      <td>Genome Collection Assembly Name</td>\n",
       "      <td>Genome Collection Assembly Name</td>\n",
       "      <td>N</td>\n",
       "      <td>N</td>\n",
       "      <td>N</td>\n",
       "      <td>N</td>\n",
       "      <td>ASM</td>\n",
       "      <td>Y</td>\n",
       "      <td>12921</td>\n",
       "    </tr>\n",
       "    <tr>\n",
       "      <th>8</th>\n",
       "      <td>One of genomic, cdna, other-dna, or protein, o...</td>\n",
       "      <td>Blast Sequence Type</td>\n",
       "      <td>N</td>\n",
       "      <td>N</td>\n",
       "      <td>N</td>\n",
       "      <td>N</td>\n",
       "      <td>SEQT</td>\n",
       "      <td>Y</td>\n",
       "      <td>4</td>\n",
       "    </tr>\n",
       "    <tr>\n",
       "      <th>9</th>\n",
       "      <td>Appropriate sequence strategy for the sequence...</td>\n",
       "      <td>Blast Sequence Strategy</td>\n",
       "      <td>N</td>\n",
       "      <td>N</td>\n",
       "      <td>N</td>\n",
       "      <td>N</td>\n",
       "      <td>SEQS</td>\n",
       "      <td>Y</td>\n",
       "      <td>5</td>\n",
       "    </tr>\n",
       "    <tr>\n",
       "      <th>10</th>\n",
       "      <td>States where the sequences came from, e.g., ge...</td>\n",
       "      <td>Blast Database Source</td>\n",
       "      <td>N</td>\n",
       "      <td>N</td>\n",
       "      <td>N</td>\n",
       "      <td>N</td>\n",
       "      <td>SRC</td>\n",
       "      <td>Y</td>\n",
       "      <td>8</td>\n",
       "    </tr>\n",
       "    <tr>\n",
       "      <th>11</th>\n",
       "      <td>Search term identifying this database entry</td>\n",
       "      <td>Keyword</td>\n",
       "      <td>N</td>\n",
       "      <td>N</td>\n",
       "      <td>N</td>\n",
       "      <td>N</td>\n",
       "      <td>KEYW</td>\n",
       "      <td>Y</td>\n",
       "      <td>17357</td>\n",
       "    </tr>\n",
       "    <tr>\n",
       "      <th>12</th>\n",
       "      <td>NCBI Genome Project Identifier</td>\n",
       "      <td>NCBI Genome Project ID</td>\n",
       "      <td>N</td>\n",
       "      <td>N</td>\n",
       "      <td>N</td>\n",
       "      <td>N</td>\n",
       "      <td>PRJ</td>\n",
       "      <td>Y</td>\n",
       "      <td>51887</td>\n",
       "    </tr>\n",
       "    <tr>\n",
       "      <th>13</th>\n",
       "      <td>Gpipe Build</td>\n",
       "      <td>Gpipe Build Name</td>\n",
       "      <td>N</td>\n",
       "      <td>N</td>\n",
       "      <td>N</td>\n",
       "      <td>N</td>\n",
       "      <td>GPB</td>\n",
       "      <td>Y</td>\n",
       "      <td>33</td>\n",
       "    </tr>\n",
       "    <tr>\n",
       "      <th>14</th>\n",
       "      <td>NCBI WGS Project Identifier</td>\n",
       "      <td>NCBI WGS Project ID</td>\n",
       "      <td>N</td>\n",
       "      <td>N</td>\n",
       "      <td>N</td>\n",
       "      <td>N</td>\n",
       "      <td>WGPR</td>\n",
       "      <td>Y</td>\n",
       "      <td>147479</td>\n",
       "    </tr>\n",
       "  </tbody>\n",
       "</table>\n",
       "</div>"
      ],
      "text/plain": [
       "                                          Description  \\\n",
       "0                All terms from all searchable fields   \n",
       "1               Unique number assigned to publication   \n",
       "2                                  Limits the records   \n",
       "3                       Official name of the database   \n",
       "4   Words in the title of database (e.g., \"NCBI Tr...   \n",
       "5                        Date of last database update   \n",
       "6                                      Organism Taxid   \n",
       "7                     Genome Collection Assembly Name   \n",
       "8   One of genomic, cdna, other-dna, or protein, o...   \n",
       "9   Appropriate sequence strategy for the sequence...   \n",
       "10  States where the sequences came from, e.g., ge...   \n",
       "11        Search term identifying this database entry   \n",
       "12                     NCBI Genome Project Identifier   \n",
       "13                                        Gpipe Build   \n",
       "14                        NCBI WGS Project Identifier   \n",
       "\n",
       "                           FullName Hierarchy IsDate IsHidden IsNumerical  \\\n",
       "0                        All Fields         N      N        N           N   \n",
       "1                               UID         N      N        Y           Y   \n",
       "2                            Filter         N      N        N           N   \n",
       "3                     Database Name         N      N        N           N   \n",
       "4                    Database Title         N      N        N           N   \n",
       "5                       Last Update         N      Y        N           N   \n",
       "6           Database Organism Taxid         N      N        N           N   \n",
       "7   Genome Collection Assembly Name         N      N        N           N   \n",
       "8               Blast Sequence Type         N      N        N           N   \n",
       "9           Blast Sequence Strategy         N      N        N           N   \n",
       "10            Blast Database Source         N      N        N           N   \n",
       "11                          Keyword         N      N        N           N   \n",
       "12           NCBI Genome Project ID         N      N        N           N   \n",
       "13                 Gpipe Build Name         N      N        N           N   \n",
       "14              NCBI WGS Project ID         N      N        N           N   \n",
       "\n",
       "    Name SingleToken TermCount  \n",
       "0    ALL           N   6600339  \n",
       "1    UID           Y         0  \n",
       "2   FILT           Y         8  \n",
       "3     DB           Y    229004  \n",
       "4   TITL           Y   4418573  \n",
       "5   DATE           Y      3321  \n",
       "6   ORGN           Y   1862391  \n",
       "7    ASM           Y     12921  \n",
       "8   SEQT           Y         4  \n",
       "9   SEQS           Y         5  \n",
       "10   SRC           Y         8  \n",
       "11  KEYW           Y     17357  \n",
       "12   PRJ           Y     51887  \n",
       "13   GPB           Y        33  \n",
       "14  WGPR           Y    147479  "
      ]
     },
     "execution_count": 74,
     "metadata": {},
     "output_type": "execute_result"
    }
   ],
   "source": [
    "pd.DataFrame(parsed_response['DbInfo']['FieldList'])"
   ]
  },
  {
   "cell_type": "code",
   "execution_count": 75,
   "metadata": {},
   "outputs": [
    {
     "data": {
      "text/plain": [
       "'BlastdbInfo Database'"
      ]
     },
     "execution_count": 75,
     "metadata": {},
     "output_type": "execute_result"
    }
   ],
   "source": [
    "parsed_response['DbInfo']['Description']"
   ]
  },
  {
   "cell_type": "code",
   "execution_count": 78,
   "metadata": {},
   "outputs": [
    {
     "data": {
      "text/plain": [
       "{'Count': '128', 'RetMax': '20', 'RetStart': '0', 'IdList': ['73451714', '73451704', '73451694', '73451684', '73451674', '73451664', '73451654', '73451644', '73067674', '73067534', '73067524', '67250904', '63379034', '63379004', '59445324', '59445274', '59445264', '58914924', '57406204', '57406194'], 'TranslationSet': [], 'TranslationStack': [{'Term': 'nr 1[All Fields]', 'Field': 'All Fields', 'Count': '5', 'Explode': 'N'}, {'Term': 'nr 10492[All Fields]', 'Field': 'All Fields', 'Count': '3', 'Explode': 'N'}, 'OR', {'Term': 'nr 12[All Fields]', 'Field': 'All Fields', 'Count': '1', 'Explode': 'N'}, 'OR', {'Term': 'nr 2[All Fields]', 'Field': 'All Fields', 'Count': '5', 'Explode': 'N'}, 'OR', {'Term': 'nr 272[All Fields]', 'Field': 'All Fields', 'Count': '1', 'Explode': 'N'}, 'OR', {'Term': 'nr 28534[All Fields]', 'Field': 'All Fields', 'Count': '3', 'Explode': 'N'}, 'OR', {'Term': 'nr 3[All Fields]', 'Field': 'All Fields', 'Count': '9', 'Explode': 'N'}, 'OR', {'Term': 'nr 4[All Fields]', 'Field': 'All Fields', 'Count': '3', 'Explode': 'N'}, 'OR', {'Term': 'nr 5[All Fields]', 'Field': 'All Fields', 'Count': '3', 'Explode': 'N'}, 'OR', {'Term': 'nr 6[All Fields]', 'Field': 'All Fields', 'Count': '3', 'Explode': 'N'}, 'OR', {'Term': 'nr 643[All Fields]', 'Field': 'All Fields', 'Count': '3', 'Explode': 'N'}, 'OR', {'Term': 'nr 7[All Fields]', 'Field': 'All Fields', 'Count': '3', 'Explode': 'N'}, 'OR', {'Term': 'nr 8[All Fields]', 'Field': 'All Fields', 'Count': '3', 'Explode': 'N'}, 'OR', {'Term': 'nr a01[All Fields]', 'Field': 'All Fields', 'Count': '1', 'Explode': 'N'}, 'OR', {'Term': 'nr a03[All Fields]', 'Field': 'All Fields', 'Count': '1', 'Explode': 'N'}, 'OR', {'Term': 'nr a04[All Fields]', 'Field': 'All Fields', 'Count': '1', 'Explode': 'N'}, 'OR', {'Term': 'nr a05[All Fields]', 'Field': 'All Fields', 'Count': '1', 'Explode': 'N'}, 'OR', {'Term': 'nr a06[All Fields]', 'Field': 'All Fields', 'Count': '1', 'Explode': 'N'}, 'OR', {'Term': 'nr a10[All Fields]', 'Field': 'All Fields', 'Count': '1', 'Explode': 'N'}, 'OR', {'Term': 'nr b01[All Fields]', 'Field': 'All Fields', 'Count': '1', 'Explode': 'N'}, 'OR', {'Term': 'nr b02[All Fields]', 'Field': 'All Fields', 'Count': '1', 'Explode': 'N'}, 'OR', {'Term': 'nr b03[All Fields]', 'Field': 'All Fields', 'Count': '1', 'Explode': 'N'}, 'OR', {'Term': 'nr b04[All Fields]', 'Field': 'All Fields', 'Count': '1', 'Explode': 'N'}, 'OR', {'Term': 'nr b05[All Fields]', 'Field': 'All Fields', 'Count': '1', 'Explode': 'N'}, 'OR', {'Term': 'nr b06[All Fields]', 'Field': 'All Fields', 'Count': '1', 'Explode': 'N'}, 'OR', {'Term': 'nr b07[All Fields]', 'Field': 'All Fields', 'Count': '1', 'Explode': 'N'}, 'OR', {'Term': 'nr b08[All Fields]', 'Field': 'All Fields', 'Count': '1', 'Explode': 'N'}, 'OR', {'Term': 'nr b10[All Fields]', 'Field': 'All Fields', 'Count': '1', 'Explode': 'N'}, 'OR', {'Term': 'nr b11[All Fields]', 'Field': 'All Fields', 'Count': '1', 'Explode': 'N'}, 'OR', {'Term': 'nr b12[All Fields]', 'Field': 'All Fields', 'Count': '1', 'Explode': 'N'}, 'OR', {'Term': 'nr bulkrescue1[All Fields]', 'Field': 'All Fields', 'Count': '1', 'Explode': 'N'}, 'OR', {'Term': 'nr bulkrescue2[All Fields]', 'Field': 'All Fields', 'Count': '1', 'Explode': 'N'}, 'OR', {'Term': 'nr bulkrescue3[All Fields]', 'Field': 'All Fields', 'Count': '1', 'Explode': 'N'}, 'OR', {'Term': 'nr bulkrescue4[All Fields]', 'Field': 'All Fields', 'Count': '1', 'Explode': 'N'}, 'OR', {'Term': 'nr bulkrescue5[All Fields]', 'Field': 'All Fields', 'Count': '1', 'Explode': 'N'}, 'OR', {'Term': 'nr bulkrescue6[All Fields]', 'Field': 'All Fields', 'Count': '1', 'Explode': 'N'}, 'OR', {'Term': 'nr bulkrescue7[All Fields]', 'Field': 'All Fields', 'Count': '1', 'Explode': 'N'}, 'OR', {'Term': 'nr bulkrescue8[All Fields]', 'Field': 'All Fields', 'Count': '1', 'Explode': 'N'}, 'OR', {'Term': 'nr c01[All Fields]', 'Field': 'All Fields', 'Count': '1', 'Explode': 'N'}, 'OR', {'Term': 'nr c02[All Fields]', 'Field': 'All Fields', 'Count': '1', 'Explode': 'N'}, 'OR', {'Term': 'nr c03[All Fields]', 'Field': 'All Fields', 'Count': '1', 'Explode': 'N'}, 'OR', {'Term': 'nr c04[All Fields]', 'Field': 'All Fields', 'Count': '1', 'Explode': 'N'}, 'OR', {'Term': 'nr c05[All Fields]', 'Field': 'All Fields', 'Count': '1', 'Explode': 'N'}, 'OR', {'Term': 'nr c06[All Fields]', 'Field': 'All Fields', 'Count': '1', 'Explode': 'N'}, 'OR', {'Term': 'nr c07[All Fields]', 'Field': 'All Fields', 'Count': '1', 'Explode': 'N'}, 'OR', {'Term': 'nr c08[All Fields]', 'Field': 'All Fields', 'Count': '1', 'Explode': 'N'}, 'OR', {'Term': 'nr c09[All Fields]', 'Field': 'All Fields', 'Count': '1', 'Explode': 'N'}, 'OR', {'Term': 'nr c10[All Fields]', 'Field': 'All Fields', 'Count': '1', 'Explode': 'N'}, 'OR', {'Term': 'nr c11[All Fields]', 'Field': 'All Fields', 'Count': '1', 'Explode': 'N'}, 'OR', {'Term': 'nr c12[All Fields]', 'Field': 'All Fields', 'Count': '1', 'Explode': 'N'}, 'OR', {'Term': 'nr d01[All Fields]', 'Field': 'All Fields', 'Count': '1', 'Explode': 'N'}, 'OR', {'Term': 'nr d02[All Fields]', 'Field': 'All Fields', 'Count': '1', 'Explode': 'N'}, 'OR', {'Term': 'nr d03[All Fields]', 'Field': 'All Fields', 'Count': '1', 'Explode': 'N'}, 'OR', {'Term': 'nr d04[All Fields]', 'Field': 'All Fields', 'Count': '1', 'Explode': 'N'}, 'OR', {'Term': 'nr d05[All Fields]', 'Field': 'All Fields', 'Count': '1', 'Explode': 'N'}, 'OR', {'Term': 'nr d06[All Fields]', 'Field': 'All Fields', 'Count': '1', 'Explode': 'N'}, 'OR', {'Term': 'nr d07[All Fields]', 'Field': 'All Fields', 'Count': '1', 'Explode': 'N'}, 'OR', {'Term': 'nr d08[All Fields]', 'Field': 'All Fields', 'Count': '1', 'Explode': 'N'}, 'OR', {'Term': 'nr d09[All Fields]', 'Field': 'All Fields', 'Count': '1', 'Explode': 'N'}, 'OR', {'Term': 'nr d10[All Fields]', 'Field': 'All Fields', 'Count': '1', 'Explode': 'N'}, 'OR', {'Term': 'nr d11[All Fields]', 'Field': 'All Fields', 'Count': '1', 'Explode': 'N'}, 'OR', {'Term': 'nr d12[All Fields]', 'Field': 'All Fields', 'Count': '1', 'Explode': 'N'}, 'OR', {'Term': 'nr dna[All Fields]', 'Field': 'All Fields', 'Count': '1', 'Explode': 'N'}, 'OR', {'Term': 'nr e01[All Fields]', 'Field': 'All Fields', 'Count': '1', 'Explode': 'N'}, 'OR', {'Term': 'nr e02[All Fields]', 'Field': 'All Fields', 'Count': '1', 'Explode': 'N'}, 'OR', {'Term': 'nr e03[All Fields]', 'Field': 'All Fields', 'Count': '1', 'Explode': 'N'}, 'OR', {'Term': 'nr e04[All Fields]', 'Field': 'All Fields', 'Count': '1', 'Explode': 'N'}, 'OR', {'Term': 'nr e05[All Fields]', 'Field': 'All Fields', 'Count': '1', 'Explode': 'N'}, 'OR', {'Term': 'nr e06[All Fields]', 'Field': 'All Fields', 'Count': '1', 'Explode': 'N'}, 'OR', {'Term': 'nr e07[All Fields]', 'Field': 'All Fields', 'Count': '1', 'Explode': 'N'}, 'OR', {'Term': 'nr e08[All Fields]', 'Field': 'All Fields', 'Count': '1', 'Explode': 'N'}, 'OR', {'Term': 'nr e09[All Fields]', 'Field': 'All Fields', 'Count': '1', 'Explode': 'N'}, 'OR', {'Term': 'nr e10[All Fields]', 'Field': 'All Fields', 'Count': '1', 'Explode': 'N'}, 'OR', {'Term': 'nr e11[All Fields]', 'Field': 'All Fields', 'Count': '1', 'Explode': 'N'}, 'OR', {'Term': 'nr e12[All Fields]', 'Field': 'All Fields', 'Count': '1', 'Explode': 'N'}, 'OR', {'Term': 'nr f01[All Fields]', 'Field': 'All Fields', 'Count': '1', 'Explode': 'N'}, 'OR', {'Term': 'nr f03[All Fields]', 'Field': 'All Fields', 'Count': '1', 'Explode': 'N'}, 'OR', {'Term': 'nr f04[All Fields]', 'Field': 'All Fields', 'Count': '1', 'Explode': 'N'}, 'OR', {'Term': 'nr f05[All Fields]', 'Field': 'All Fields', 'Count': '1', 'Explode': 'N'}, 'OR', {'Term': 'nr f06[All Fields]', 'Field': 'All Fields', 'Count': '1', 'Explode': 'N'}, 'OR', {'Term': 'nr f07[All Fields]', 'Field': 'All Fields', 'Count': '1', 'Explode': 'N'}, 'OR', {'Term': 'nr f08[All Fields]', 'Field': 'All Fields', 'Count': '1', 'Explode': 'N'}, 'OR', {'Term': 'nr fruit[All Fields]', 'Field': 'All Fields', 'Count': '1', 'Explode': 'N'}, 'OR', {'Term': 'nr mc[All Fields]', 'Field': 'All Fields', 'Count': '2', 'Explode': 'N'}, 'OR', {'Term': 'nr n[All Fields]', 'Field': 'All Fields', 'Count': '6', 'Explode': 'N'}, 'OR', {'Term': 'nr rgen[All Fields]', 'Field': 'All Fields', 'Count': '3', 'Explode': 'N'}, 'OR', {'Term': 'nr rna[All Fields]', 'Field': 'All Fields', 'Count': '2', 'Explode': 'N'}, 'OR', 'GROUP'], 'QueryTranslation': 'nr 1[All Fields] OR nr 10492[All Fields] OR nr 12[All Fields] OR nr 2[All Fields] OR nr 272[All Fields] OR nr 28534[All Fields] OR nr 3[All Fields] OR nr 4[All Fields] OR nr 5[All Fields] OR nr 6[All Fields] OR nr 643[All Fields] OR nr 7[All Fields] OR nr 8[All Fields] OR nr a01[All Fields] OR nr a03[All Fields] OR nr a04[All Fields] OR nr a05[All Fields] OR nr a06[All Fields] OR nr a10[All Fields] OR nr b01[All Fields] OR nr b02[All Fields] OR nr b03[All Fields] OR nr b04[All Fields] OR nr b05[All Fields] OR nr b06[All Fields] OR nr b07[All Fields] OR nr b08[All Fields] OR nr b10[All Fields] OR nr b11[All Fields] OR nr b12[All Fields] OR nr bulkrescue1[All Fields] OR nr bulkrescue2[All Fields] OR nr bulkrescue3[All Fields] OR nr bulkrescue4[All Fields] OR nr bulkrescue5[All Fields] OR nr bulkrescue6[All Fields] OR nr bulkrescue7[All Fields] OR nr bulkrescue8[All Fields] OR nr c01[All Fields] OR nr c02[All Fields] OR nr c03[All Fields] OR nr c04[All Fields] OR nr c05[All Fields] OR nr c06[All Fields] OR nr c07[All Fields] OR nr c08[All Fields] OR nr c09[All Fields] OR nr c10[All Fields] OR nr c11[All Fields] OR nr c12[All Fields] OR nr d01[All Fields] OR nr d02[All Fields] OR nr d03[All Fields] OR nr d04[All Fields] OR nr d05[All Fields] OR nr d06[All Fields] OR nr d07[All Fields] OR nr d08[All Fields] OR nr d09[All Fields] OR nr d10[All Fields] OR nr d11[All Fields] OR nr d12[All Fields] OR nr dna[All Fields] OR nr e01[All Fields] OR nr e02[All Fields] OR nr e03[All Fields] OR nr e04[All Fields] OR nr e05[All Fields] OR nr e06[All Fields] OR nr e07[All Fields] OR nr e08[All Fields] OR nr e09[All Fields] OR nr e10[All Fields] OR nr e11[All Fields] OR nr e12[All Fields] OR nr f01[All Fields] OR nr f03[All Fields] OR nr f04[All Fields] OR nr f05[All Fields] OR nr f06[All Fields] OR nr f07[All Fields] OR nr f08[All Fields] OR nr fruit[All Fields] OR nr mc[All Fields] OR nr n[All Fields] OR nr rgen[All Fields] OR nr rna[All Fields]'}"
      ]
     },
     "execution_count": 78,
     "metadata": {},
     "output_type": "execute_result"
    }
   ],
   "source": [
    "query = \"nr.*\"\n",
    "handler = etz.esearch(db='blastdbinfo', term=query)\n",
    "parsed_response = etz.read(handler)\n",
    "handler.close()\n",
    "parsed_response"
   ]
  },
  {
   "cell_type": "code",
   "execution_count": null,
   "metadata": {},
   "outputs": [],
   "source": []
  }
 ],
 "metadata": {
  "kernelspec": {
   "display_name": "Python 3",
   "language": "python",
   "name": "python3"
  },
  "language_info": {
   "codemirror_mode": {
    "name": "ipython",
    "version": 3
   },
   "file_extension": ".py",
   "mimetype": "text/x-python",
   "name": "python",
   "nbconvert_exporter": "python",
   "pygments_lexer": "ipython3",
   "version": "3.6.4"
  }
 },
 "nbformat": 4,
 "nbformat_minor": 2
}

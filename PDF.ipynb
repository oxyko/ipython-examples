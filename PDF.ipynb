{
 "cells": [
  {
   "cell_type": "markdown",
   "metadata": {},
   "source": [
    "# Working with pdf documents\n",
    "\n",
    "Possible libraries:\n",
    "* PyPDF2. Might have trouble converting complicated pdf formats\n",
    "* PDFMiner - for analysing text data. Can get location of text, formatting, etc. https://github.com/euske/pdfminer/\n",
    "* Apache Tika - has a python interface. Need to install a jar."
   ]
  },
  {
   "cell_type": "code",
   "execution_count": null,
   "metadata": {},
   "outputs": [],
   "source": []
  },
  {
   "cell_type": "code",
   "execution_count": 1,
   "metadata": {},
   "outputs": [],
   "source": [
    "sample_pdf_doc = \"data/github-git-cheat-sheet.pdf\""
   ]
  },
  {
   "cell_type": "markdown",
   "metadata": {},
   "source": [
    "## Read pdf with PyPDF2\n",
    "\n",
    "Install PyPDF2 with pip (`pip install PyPDF2`) or conda (`conda install -c conda-forge pypdf2`)"
   ]
  },
  {
   "cell_type": "code",
   "execution_count": 10,
   "metadata": {},
   "outputs": [
    {
     "name": "stdout",
     "output_type": "stream",
     "text": [
      "training@github.com training.github.comGIT CHEAT SHEETSYNCHRONIZE CHANGESRegister a repository bookmark and exchange version history!\"#$%\"+-%1;\"*822<3'/<.Downloads all history from the repository bookmark\n",
      "!\"#$%\"3-/#-\"*822<3'/<.=*8/'71;.Combines bookmarkÕs branch into current local branch\n",
      "!\"#$%\"5(&;\"*',$'&.\"*8/'71;.Uploads all local branch commits to GitHub\n",
      "!\"#$%\"5(,,Downloads bookmark history and incorporates changes\n",
      "REFACTOR FILENAMESRelocate and remove versioned Þles!\"#$%\"/3\"*+$,-.Deletes the Þle from the working directory and stages the deletion\n",
      "!\"#$%\"/3\"001'1;-)\"*+$,-.Removes the Þle from version control but preserves the Þle locally\n",
      "!\"#$%\"36\"*+$,-02/$#$7',.\"*+$,-0/-7'3-).Changes the Þle name and prepares it for commit\n",
      "SAVE FRAGMENTSShelve and restore incomplete changes!\"#$%\"&%'&;Temporarily stores all modiÞed tracked Þles\n",
      "!\"#$%\"&%'&;\",$&%Lists all stashed changesets!\"#$%\"&%'&;\"525Restores the most recently stashed Þles!\"#$%\"&%'&;\")/25Discards the most recently stashed changesetREDO COMMITSErase mistakes and cra! replacement history!\"#$%\"/-&-%\"*1233$%.Undoes all commits a!er !\"#$$%&', preserving changes locally!\"#$%\"/-&-%\"00;'/)\"*1233$%.Discards all history and changes back to the speciÞed commitREVIEW HISTORYBrowse and inspect the evolution of project Þles!\"#$%\",2#Lists version history for the current branch\n",
      "!\"#$%\",2#\"00+2,,2>\"*+$,-.Lists version history for a Þle, including renames\n",
      "!\"#$%\")$++\"*+$/&%08/'71;.999*&-127)08/'71;.Shows content di\n",
      "#\n",
      "erences between two branches\n",
      "!\"#$%\"&;2>\"*1233$%.Outputs metadata and content changes of the speciÞed commitSUPPRESS TRACKINGExclude temporary Þles and paths!\"#$%\",&0+$,-&\"002%;-/\"00$#72/-)\"00-?1,()-0&%'7)'/)Lists all ignored Þles in this project@9,2#8($,)=%-350@A text Þle named \n",
      "()%&%)*#+,  suppresses accidental versioning of \n",
      "Þles and paths matching the speciÞed pa\"erns\n"
     ]
    }
   ],
   "source": [
    "import PyPDF2\n",
    "\n",
    "with open(sample_pdf_doc, 'rb') as f:\n",
    "    pdfReader = PyPDF2.PdfFileReader(f)\n",
    "    #doc_text = pdfReader.extractText()\n",
    "    num_pages = pdfReader.numPages\n",
    "    pageObj = pdfReader.getPage(num_pages -1)\n",
    "    print(pageObj.extractText())\n",
    "    #print(doc_text)"
   ]
  },
  {
   "cell_type": "code",
   "execution_count": null,
   "metadata": {},
   "outputs": [],
   "source": []
  }
 ],
 "metadata": {
  "kernelspec": {
   "display_name": "Python 3",
   "language": "python",
   "name": "python3"
  },
  "language_info": {
   "codemirror_mode": {
    "name": "ipython",
    "version": 3
   },
   "file_extension": ".py",
   "mimetype": "text/x-python",
   "name": "python",
   "nbconvert_exporter": "python",
   "pygments_lexer": "ipython3",
   "version": "3.6.6"
  }
 },
 "nbformat": 4,
 "nbformat_minor": 2
}

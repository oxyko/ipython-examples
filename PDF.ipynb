{
 "cells": [
  {
   "cell_type": "markdown",
   "metadata": {},
   "source": [
    "# Working with pdf documents\n",
    "\n",
    "Possible libraries:\n",
    "* PyPDF2. Might have trouble converting complicated pdf formats. Simple, bare basics. BSD license.\n",
    "* PDFMiner - for analysing text data in pdf files. Can get location of text, formatting, etc. MIT license. https://github.com/euske/pdfminer/\n",
    "* pdfrw\n",
    "* Apache Tika - has a python interface. Need to install a jar."
   ]
  },
  {
   "cell_type": "code",
   "execution_count": null,
   "metadata": {},
   "outputs": [],
   "source": []
  },
  {
   "cell_type": "code",
   "execution_count": 34,
   "metadata": {},
   "outputs": [],
   "source": [
    "sample_pdf_doc = \"data/github-git-cheat-sheet.pdf\"\n",
    "sample_pdf_doc1 = \"data/test.pdf\"\n",
    "sample_pdf_doc2 = \"data/test_pdf2.pdf\"\n",
    "sample_pdf_doc3 = \"data/test_pdf3.pdf\""
   ]
  },
  {
   "cell_type": "markdown",
   "metadata": {},
   "source": [
    "## Read pdf with PyPDF2\n",
    "\n",
    "Install PyPDF2 with pip (`pip install PyPDF2`) or conda (`conda install -c conda-forge pypdf2`)"
   ]
  },
  {
   "cell_type": "markdown",
   "metadata": {},
   "source": [
    "### Convert pdf to text, see meta-title"
   ]
  },
  {
   "cell_type": "code",
   "execution_count": 39,
   "metadata": {},
   "outputs": [
    {
     "name": "stdout",
     "output_type": "stream",
     "text": [
      "{'/CreationDate': \"D:20110623133440-04'00'\", '/Creator': 'HardCopy', '/Producer': 'Adobe Acrobat 8.1 Paper Capture Plug-in', '/ModDate': \"D:20110623133440-04'00'\", '/Title': 'Scanned Document'}\n"
     ]
    }
   ],
   "source": [
    "import PyPDF2\n",
    "\n",
    "pdf_text = ''\n",
    "with open(sample_pdf_doc3, 'rb') as f:\n",
    "    pdfReader = PyPDF2.PdfFileReader(f)\n",
    "\n",
    "    #Read meta-title\n",
    "    docinfo = pdfReader.getDocumentInfo()\n",
    "    print(docinfo)\n",
    "    \n",
    "    \n",
    "    # Go through all pages and convert them to text\n",
    "    for page in range(0,pdfReader.numPages):\n",
    "        pageObj = pdfReader.getPage(page)\n",
    "        pdf_text = \"{}{}\".format(pdf_text,pageObj.extractText())\n",
    "\n",
    "#print(pdf_text)\n"
   ]
  },
  {
   "cell_type": "markdown",
   "metadata": {},
   "source": [
    "### Get meta-title"
   ]
  },
  {
   "cell_type": "code",
   "execution_count": null,
   "metadata": {},
   "outputs": [],
   "source": []
  },
  {
   "cell_type": "code",
   "execution_count": null,
   "metadata": {},
   "outputs": [],
   "source": []
  },
  {
   "cell_type": "markdown",
   "metadata": {},
   "source": [
    "## PDFMiner\n",
    "\n",
    "PDFMiner was written for Python 2. They've added support for python 3 with pdfminer.six (https://github.com/pdfminer/pdfminer.six).\n",
    "To install with pip: `pip install pdfminer.six`. To install with conda: `conda install -c conda-forge pdfminer.six`\n",
    "\n",
    "`pdf2txt.py <some pdf file>.pdf` - to check if it is working"
   ]
  },
  {
   "cell_type": "code",
   "execution_count": 37,
   "metadata": {},
   "outputs": [
    {
     "name": "stdout",
     "output_type": "stream",
     "text": [
      "Is document extractable?: True\n",
      "Document info: [{'CreationDate': b\"D:20110622160318-04'00'\", 'Creator': b'HardCopy', 'Producer': b'Adobe Acrobat 8.1 Paper Capture Plug-in', 'ModDate': b\"D:20110622160318-04'00'\", 'Title': b'Scanned Document'}]\n"
     ]
    }
   ],
   "source": [
    "from pdfminer.pdfparser import PDFParser\n",
    "from pdfminer.pdfdocument import PDFDocument\n",
    "\n",
    "with open(sample_pdf_doc2, 'rb') as f:\n",
    "    parser = PDFParser(f)\n",
    "    doc = PDFDocument(parser)\n",
    "    \n",
    "    # See if text is extractable from this pdf:\n",
    "    print(\"Is document extractable?: {}\".format(doc.is_extractable))\n",
    "    \n",
    "    # Document info (prints object reference, not actual text)\n",
    "    print(\"Document info: {}\".format(doc.info))\n",
    "    \n",
    "    # Get text of  TITLE (only works in some cases)\n",
    "    #obj = doc.getobj(404)\n",
    "    #print(obj)\n",
    "    \n",
    "    #for (level,title,dest,a,structelem) in doc.get_outlines():\n",
    "    #    print(title)\n",
    "\n"
   ]
  },
  {
   "cell_type": "markdown",
   "metadata": {},
   "source": [
    "## pdfrw"
   ]
  },
  {
   "cell_type": "code",
   "execution_count": null,
   "metadata": {},
   "outputs": [],
   "source": [
    "# Haven's installed it yet\n",
    "from pdfrw import PdfReader\n",
    "\n",
    "reader = PdfReader('example.pdf')\n",
    "\n",
    "reader.Info.Title\n"
   ]
  }
 ],
 "metadata": {
  "kernelspec": {
   "display_name": "Python 3",
   "language": "python",
   "name": "python3"
  },
  "language_info": {
   "codemirror_mode": {
    "name": "ipython",
    "version": 3
   },
   "file_extension": ".py",
   "mimetype": "text/x-python",
   "name": "python",
   "nbconvert_exporter": "python",
   "pygments_lexer": "ipython3",
   "version": "3.6.6"
  }
 },
 "nbformat": 4,
 "nbformat_minor": 2
}

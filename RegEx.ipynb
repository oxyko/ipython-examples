{
 "cells": [
  {
   "cell_type": "markdown",
   "metadata": {},
   "source": [
    "# RegEx"
   ]
  },
  {
   "cell_type": "raw",
   "metadata": {},
   "source": [
    "Sample modifiers\n",
    "[] - set. I.e. [cde]. For range use [a-z]\n",
    "{} - range. I.e. {2} - 2 repetitions; {2,6} from 2 to 6 repetitions\n",
    "? - 0 or 1  (also called qualifier). Also works as a non-greedy(matching minimal str first) qualifier. I.e.\n",
    "    for string '<a> b <c>'  RE <.*> will match the whole string, while <.*?> will match <a>\n",
    "+ - one or more  (also called qualifier)\n",
    "* - 0 or more  (also called qualifier)\n",
    "^ - beginning of string\n",
    "$ - end of string\n",
    "\n",
    "Sample identifiers\n",
    ". - any character (not new line)\n",
    "\\w - any letter\n",
    "\\W - anything but letter\n",
    "\\d - any digit\n",
    "\\D - anything but digit\n",
    "\n",
    "\n",
    "Sample whitespace\n",
    "\\s - space\n",
    "\\t - tab\n",
    "\\n - new line\n",
    "\n",
    "Other\n",
    "\\ - escape special character (Ex. matching a dot: \\.)\n",
    "| - or\n",
    "r\"some string\" - Use raw python string for regex to avoid \\\\\\\\ to match a literal single \\.\n"
   ]
  },
  {
   "cell_type": "code",
   "execution_count": 1,
   "metadata": {},
   "outputs": [],
   "source": [
    "import re"
   ]
  },
  {
   "cell_type": "code",
   "execution_count": null,
   "metadata": {},
   "outputs": [],
   "source": []
  },
  {
   "cell_type": "code",
   "execution_count": 5,
   "metadata": {},
   "outputs": [
    {
     "data": {
      "text/plain": [
       "'= Sphaeria pinea Desm.'"
      ]
     },
     "execution_count": 5,
     "metadata": {},
     "output_type": "execute_result"
    }
   ],
   "source": [
    "word = \"= Sphaeria pinea Desm. 1842\"\n",
    "no_year = re.sub('\\s*\\d{4}$','',word)\n",
    "no_year"
   ]
  },
  {
   "cell_type": "code",
   "execution_count": 6,
   "metadata": {},
   "outputs": [
    {
     "data": {
      "text/plain": [
       "'Sphaeria pinea Desm. 1842'"
      ]
     },
     "execution_count": 6,
     "metadata": {},
     "output_type": "execute_result"
    }
   ],
   "source": [
    "no_symbol = re.sub('^[≡,=]\\s*','', word)\n",
    "no_symbol"
   ]
  },
  {
   "cell_type": "markdown",
   "metadata": {},
   "source": [
    "### Remove path"
   ]
  },
  {
   "cell_type": "code",
   "execution_count": 2,
   "metadata": {},
   "outputs": [
    {
     "data": {
      "text/plain": [
       "'Berberis distribution 2010-16.pdf'"
      ]
     },
     "execution_count": 2,
     "metadata": {},
     "output_type": "execute_result"
    }
   ],
   "source": [
    "filename = '/Users/korolo/data/cssp/cfia_risk_assessment/CFIA/2010/2010-16/Berberis distribution 2010-16.pdf'\n",
    "dirs = filename.split('/')\n",
    "clean_name = dirs[-1]\n",
    "clean_name"
   ]
  },
  {
   "cell_type": "markdown",
   "metadata": {},
   "source": [
    "#### Get path without file name"
   ]
  },
  {
   "cell_type": "code",
   "execution_count": 6,
   "metadata": {},
   "outputs": [
    {
     "data": {
      "text/plain": [
       "'/Users/korolo/data/cssp/cfia_risk_assessment/CFIA/2010/2010-16/Berberis distribution 2010-16.pdf'"
      ]
     },
     "execution_count": 6,
     "metadata": {},
     "output_type": "execute_result"
    }
   ],
   "source": [
    "path = re.sub('/*$', '', filename)  ## doesn't work\n",
    "path"
   ]
  },
  {
   "cell_type": "code",
   "execution_count": 10,
   "metadata": {},
   "outputs": [
    {
     "data": {
      "text/plain": [
       "'/Users/korolo/data/cssp/cfia_risk_assessment/CFIA/2010/2010-16/'"
      ]
     },
     "execution_count": 10,
     "metadata": {},
     "output_type": "execute_result"
    }
   ],
   "source": [
    "'/'.join(filename.split('/')[:-1]) + '/'"
   ]
  },
  {
   "cell_type": "markdown",
   "metadata": {},
   "source": [
    "## Matching a string to regex\n"
   ]
  },
  {
   "cell_type": "code",
   "execution_count": 9,
   "metadata": {},
   "outputs": [
    {
     "name": "stdout",
     "output_type": "stream",
     "text": [
      "a\n",
      "<_sre.SRE_Match object; span=(0, 12), match='nr.23.tar.gz'>\n"
     ]
    }
   ],
   "source": [
    "filename = 'nr.23.tar.gz'\n",
    "nr_nt_re = re.compile('(nr|nt)\\.\\d{2}\\.tar\\.gz$')\n",
    "result = nr_nt_re.match(filename)\n",
    "if result:\n",
    "    print('a')\n",
    "print(result)"
   ]
  },
  {
   "cell_type": "markdown",
   "metadata": {},
   "source": [
    "#### Above is the same as below:"
   ]
  },
  {
   "cell_type": "code",
   "execution_count": 11,
   "metadata": {},
   "outputs": [
    {
     "data": {
      "text/plain": [
       "<_sre.SRE_Match object; span=(0, 12), match='nr.23.tar.gz'>"
      ]
     },
     "execution_count": 11,
     "metadata": {},
     "output_type": "execute_result"
    }
   ],
   "source": [
    "filename = 'nr.23.tar.gz'\n",
    "result = re.match('(nr|nt)\\.\\d{2}\\.tar\\.gz$', filename)\n",
    "result"
   ]
  },
  {
   "cell_type": "markdown",
   "metadata": {},
   "source": [
    "### Note:\n",
    "Compiling a regex and than matching a string to the compiled expression is faster and should be preferred in situations where the same match needs to be performed multiple time. I.e.  <br/>\n",
    "p = re.compile('*.*') <br/>\n",
    "p.match('some.str')"
   ]
  },
  {
   "cell_type": "code",
   "execution_count": null,
   "metadata": {},
   "outputs": [],
   "source": []
  }
 ],
 "metadata": {
  "kernelspec": {
   "display_name": "Python 3",
   "language": "python",
   "name": "python3"
  },
  "language_info": {
   "codemirror_mode": {
    "name": "ipython",
    "version": 3
   },
   "file_extension": ".py",
   "mimetype": "text/x-python",
   "name": "python",
   "nbconvert_exporter": "python",
   "pygments_lexer": "ipython3",
   "version": "3.6.4"
  }
 },
 "nbformat": 4,
 "nbformat_minor": 2
}

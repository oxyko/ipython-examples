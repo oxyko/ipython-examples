{
 "cells": [
  {
   "cell_type": "markdown",
   "metadata": {},
   "source": [
    "# Object oriented Python\n",
    "Standard definitions as well as tips and tricks.\n",
    "\n",
    "__Generalization__ - pulling out common functionality into a common superclass <br/>\n",
    "__Decomposition__ - diving up functions and class definitions\n",
    "\n",
    "Subclass method, with relationship to superclass methods, can be: __componding__ (invoking several superclass methods), __blocking__ (blocking access to superclass method), __extension__ (invoking one), __overriding__ (re-implementing)"
   ]
  },
  {
   "cell_type": "markdown",
   "metadata": {},
   "source": [
    "## Simple inheritance: subclass\n",
    "\n",
    "Here subclass is created by putting a superclass name as an argument when creating a subclass (class Bike(Vehicle))\n",
    "By passing more than one class as an argument, you can have multiple inheritance."
   ]
  },
  {
   "cell_type": "code",
   "execution_count": 9,
   "metadata": {},
   "outputs": [
    {
     "data": {
      "text/plain": [
       "True"
      ]
     },
     "execution_count": 9,
     "metadata": {},
     "output_type": "execute_result"
    }
   ],
   "source": [
    "class Vehicle:\n",
    "    def __init__(self):\n",
    "        self.has_wheels = True\n",
    "        \n",
    "    def does_have_wheels(self):     ### NOTE: the method can not be called same as the instance var - will get an error when calling it\n",
    "        return self.has_wheels\n",
    "    \n",
    "class Bike(Vehicle):\n",
    "    pass\n",
    "\n",
    "bike1 = Bike()\n",
    "bike1.has_wheels\n",
    "bike1.does_have_wheels()"
   ]
  },
  {
   "cell_type": "code",
   "execution_count": null,
   "metadata": {},
   "outputs": [],
   "source": []
  }
 ],
 "metadata": {
  "kernelspec": {
   "display_name": "Python 3",
   "language": "python",
   "name": "python3"
  },
  "language_info": {
   "codemirror_mode": {
    "name": "ipython",
    "version": 3
   },
   "file_extension": ".py",
   "mimetype": "text/x-python",
   "name": "python",
   "nbconvert_exporter": "python",
   "pygments_lexer": "ipython3",
   "version": "3.6.4"
  }
 },
 "nbformat": 4,
 "nbformat_minor": 2
}

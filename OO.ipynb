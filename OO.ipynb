{
 "cells": [
  {
   "cell_type": "markdown",
   "metadata": {},
   "source": [
    "# Object oriented Python\n",
    "Standard definitions as well as tips and tricks.\n",
    "\n",
    "__Generalization__ - pulling out common functionality into a common superclass <br/>\n",
    "__Decomposition__ - diving up functions and class definitions\n",
    "\n",
    "Subclass method, with relationship to superclass methods, can be: __componding__ (invoking several superclass methods), __blocking__ (blocking access to superclass method), __extension__ (invoking one), __overriding__ (re-implementing)"
   ]
  },
  {
   "cell_type": "markdown",
   "metadata": {},
   "source": [
    "## Simple inheritance: subclass\n",
    "\n",
    "Here subclass is created by putting a superclass name as an argument when creating a subclass (class Bike(Vehicle))\n",
    "By passing more than one class as an argument, you can have multiple inheritance."
   ]
  },
  {
   "cell_type": "code",
   "execution_count": 9,
   "metadata": {},
   "outputs": [
    {
     "data": {
      "text/plain": [
       "True"
      ]
     },
     "execution_count": 9,
     "metadata": {},
     "output_type": "execute_result"
    }
   ],
   "source": [
    "class Vehicle:\n",
    "    def __init__(self):\n",
    "        self.has_wheels = True\n",
    "        \n",
    "    def does_have_wheels(self):     ### NOTE: the method can not be called same as the instance var - will get an error when calling it\n",
    "        return self.has_wheels\n",
    "    \n",
    "class Bike(Vehicle):\n",
    "    pass\n",
    "\n",
    "bike1 = Bike()\n",
    "bike1.has_wheels\n",
    "bike1.does_have_wheels()"
   ]
  },
  {
   "cell_type": "markdown",
   "metadata": {},
   "source": [
    "## Initial class, with no inheritance\n",
    "\n",
    "Clarify the difference between two following definitions:"
   ]
  },
  {
   "cell_type": "code",
   "execution_count": 1,
   "metadata": {},
   "outputs": [],
   "source": [
    "class ClassOne():\n",
    "    pass"
   ]
  },
  {
   "cell_type": "code",
   "execution_count": 3,
   "metadata": {},
   "outputs": [],
   "source": [
    "class ClassTwo(object):\n",
    "    pass"
   ]
  },
  {
   "cell_type": "markdown",
   "metadata": {},
   "source": [
    "## Interface / Abstract Class\n",
    "\n",
    "Since Python supports multiple inheritance, there is no use for interface (as in interface vs an abstract class). Python uses only classes or abstract base classes and not interfaces. Instead of interfaces, use base class or abstract base class: https://docs.python.org/3/library/abc.html\n",
    "\n",
    "Reminder, difference between and interface and abstract class is that interface doesn't have any implemented methods / assigned instance vars, while abstract class can have."
   ]
  },
  {
   "cell_type": "markdown",
   "metadata": {},
   "source": [
    "### Create custom abstract base class"
   ]
  },
  {
   "cell_type": "code",
   "execution_count": 27,
   "metadata": {},
   "outputs": [
    {
     "ename": "TypeError",
     "evalue": "Can't instantiate abstract class NcbiDownloader with abstract methods download",
     "output_type": "error",
     "traceback": [
      "\u001b[0;31m---------------------------------------------------------------------------\u001b[0m",
      "\u001b[0;31mTypeError\u001b[0m                                 Traceback (most recent call last)",
      "\u001b[0;32m<ipython-input-27-30cf0f9389a7>\u001b[0m in \u001b[0;36m<module>\u001b[0;34m()\u001b[0m\n\u001b[1;32m     12\u001b[0m     \u001b[0;32mpass\u001b[0m\u001b[0;34m\u001b[0m\u001b[0m\n\u001b[1;32m     13\u001b[0m \u001b[0;34m\u001b[0m\u001b[0m\n\u001b[0;32m---> 14\u001b[0;31m \u001b[0mncbiObj\u001b[0m \u001b[0;34m=\u001b[0m \u001b[0mNcbiDownloader\u001b[0m\u001b[0;34m(\u001b[0m\u001b[0;34m)\u001b[0m  \u001b[0;31m## This will fail, because I did not implement the download method\u001b[0m\u001b[0;34m\u001b[0m\u001b[0m\n\u001b[0m",
      "\u001b[0;31mTypeError\u001b[0m: Can't instantiate abstract class NcbiDownloader with abstract methods download"
     ]
    }
   ],
   "source": [
    "import abc\n",
    "## Abstract Base Class\n",
    "class Downloader(metaclass=abc.ABCMeta):\n",
    "### OR do regular inheritance from ABC class, subclass of ABCMeta:\n",
    "# class Downloader(abc.ABC):\n",
    "    @abc.abstractmethod\n",
    "    def download(self):\n",
    "        raise NotImplementedError('Need to define download method to use this base class.')\n",
    "\n",
    "## Sub-class\n",
    "class NcbiDownloader(Downloader):\n",
    "    pass\n",
    "\n",
    "ncbiObj = NcbiDownloader()  ## This will fail, because I did not implement the download method"
   ]
  },
  {
   "cell_type": "code",
   "execution_count": null,
   "metadata": {},
   "outputs": [],
   "source": []
  },
  {
   "cell_type": "markdown",
   "metadata": {},
   "source": [
    "#### Abstract base class with some implementation defined (i.e. abstract class, not interface)"
   ]
  },
  {
   "cell_type": "code",
   "execution_count": 49,
   "metadata": {},
   "outputs": [
    {
     "name": "stdout",
     "output_type": "stream",
     "text": [
      "I am Class 2\n",
      "I am Class 1\n"
     ]
    }
   ],
   "source": [
    "class Class1(metaclass=abc.ABCMeta):\n",
    "\n",
    "    @abc.abstractmethod\n",
    "    def print_me(self):\n",
    "        raise NotImplementedError('Need to define download method to use this base class.')\n",
    "\n",
    "    def printSuper(self):\n",
    "        print('I am Class 1')\n",
    "\n",
    "## Sub-class\n",
    "class Class2(Class1):\n",
    "    def print_me(self):\n",
    "        print('I am Class 2')\n",
    "    \n",
    "\n",
    "Class2().print_me()\n",
    "Class2().printSuper()"
   ]
  },
  {
   "cell_type": "markdown",
   "metadata": {},
   "source": [
    "#### Calling superclass method in subclass\n",
    "These work the same:"
   ]
  },
  {
   "cell_type": "code",
   "execution_count": 55,
   "metadata": {},
   "outputs": [
    {
     "name": "stdout",
     "output_type": "stream",
     "text": [
      "Tra-la-la\n",
      "Tra-la-la\n"
     ]
    }
   ],
   "source": [
    "class SuperClass1(metaclass=abc.ABCMeta):\n",
    "    def printSuper(self):\n",
    "        print('Tra-la-la')\n",
    "\n",
    "class SubClass1(SuperClass1):\n",
    "    def do_smth(self):\n",
    "        ## these do the same:\n",
    "        self.printSuper()\n",
    "        super(SubClass1, self).printSuper()\n",
    "        \n",
    "SubClass1().do_smth()"
   ]
  },
  {
   "cell_type": "markdown",
   "metadata": {},
   "source": [
    "### To define abstract properties:"
   ]
  },
  {
   "cell_type": "code",
   "execution_count": 43,
   "metadata": {},
   "outputs": [
    {
     "ename": "AttributeError",
     "evalue": "can't set attribute",
     "output_type": "error",
     "traceback": [
      "\u001b[0;31m---------------------------------------------------------------------------\u001b[0m",
      "\u001b[0;31mAttributeError\u001b[0m                            Traceback (most recent call last)",
      "\u001b[0;32m<ipython-input-43-714219017b16>\u001b[0m in \u001b[0;36m<module>\u001b[0;34m()\u001b[0m\n\u001b[1;32m     26\u001b[0m \u001b[0mfoo\u001b[0m \u001b[0;34m=\u001b[0m \u001b[0mFoo\u001b[0m\u001b[0;34m(\u001b[0m\u001b[0;34m)\u001b[0m\u001b[0;34m\u001b[0m\u001b[0m\n\u001b[1;32m     27\u001b[0m \u001b[0mfoo\u001b[0m\u001b[0;34m.\u001b[0m\u001b[0mbar\u001b[0m\u001b[0;34m\u001b[0m\u001b[0m\n\u001b[0;32m---> 28\u001b[0;31m \u001b[0mfoo\u001b[0m\u001b[0;34m.\u001b[0m\u001b[0mbar\u001b[0m \u001b[0;34m=\u001b[0m \u001b[0;36m2\u001b[0m\u001b[0;34m\u001b[0m\u001b[0m\n\u001b[0m",
      "\u001b[0;31mAttributeError\u001b[0m: can't set attribute"
     ]
    }
   ],
   "source": [
    "class AbstractFoo(metaclass=abc.ABCMeta):\n",
    "\n",
    "    @property\n",
    "    @abc.abstractmethod\n",
    "    def bar(self):\n",
    "        pass\n",
    "\n",
    "    \n",
    "class Foo(AbstractFoo):\n",
    "\n",
    "    def __init__(self):\n",
    "        self._bar = 3\n",
    "\n",
    "    @property\n",
    "    def bar(self):\n",
    "        return self._bar\n",
    "\n",
    "    @bar.setter\n",
    "    def setbar(self, bar):\n",
    "        self._bar = bar\n",
    "\n",
    "    @bar.deleter\n",
    "    def delbar(self):\n",
    "        del self._bar\n",
    "        \n",
    "foo = Foo()\n",
    "foo.bar\n",
    "foo.bar = 2  ## ??? Not working"
   ]
  },
  {
   "cell_type": "code",
   "execution_count": null,
   "metadata": {},
   "outputs": [],
   "source": []
  }
 ],
 "metadata": {
  "kernelspec": {
   "display_name": "Python 3",
   "language": "python",
   "name": "python3"
  },
  "language_info": {
   "codemirror_mode": {
    "name": "ipython",
    "version": 3
   },
   "file_extension": ".py",
   "mimetype": "text/x-python",
   "name": "python",
   "nbconvert_exporter": "python",
   "pygments_lexer": "ipython3",
   "version": "3.6.4"
  }
 },
 "nbformat": 4,
 "nbformat_minor": 2
}
